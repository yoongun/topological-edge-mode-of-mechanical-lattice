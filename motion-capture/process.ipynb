{
 "cells": [
  {
   "cell_type": "code",
   "execution_count": 13,
   "metadata": {},
   "outputs": [
    {
     "name": "stdout",
     "output_type": "stream",
     "text": [
      "processing: wm00-1.csv\n",
      "processing: wm00-2.csv\n",
      "processing: wm00-3.csv\n",
      "processing: wm25-1.csv\n",
      "processing: wm25-2.csv\n",
      "processing: wm25-3.csv\n",
      "processing: wm50-1.csv\n",
      "processing: wm50-2.csv\n",
      "processing: wm50-3.csv\n",
      "processing: mg000-1.csv\n",
      "processing: mg000-2.csv\n",
      "processing: mg000-3.csv\n",
      "processing: mg125-1.csv\n",
      "processing: mg125-2.csv\n",
      "processing: mg125-3.csv\n",
      "processing: mg125-4.csv\n",
      "processing: mg250-1.csv\n",
      "processing: mg250-2.csv\n",
      "processing: mg250-3.csv\n",
      "processing: mg500-1.csv\n",
      "processing: mg500-2.csv\n",
      "processing: mg500-3.csv\n"
     ]
    }
   ],
   "source": [
    "import pandas as pd\n",
    "import pickle\n",
    "from operator import attrgetter\n",
    "from type import point, frame\n",
    "import numpy as np\n",
    "import os\n",
    "\n",
    "\n",
    "\n",
    "for filename in os.listdir('data'):\n",
    "    print(\"processing:\", filename)\n",
    "    df = pd.read_csv(os.path.join(\"data\", filename))\n",
    "\n",
    "    frames = []\n",
    "    for i, r in df.iterrows():\n",
    "        t = r[1]\n",
    "        r = r[2:]\n",
    "        ps = []\n",
    "        for j in range(0, len(r) - 1, 3):\n",
    "            x, y, z = r[j:j+3]\n",
    "            if np.isnan(x) or np.isnan(y) or np.isnan(z):\n",
    "                continue\n",
    "            p = point(x, y, z)\n",
    "            ps.append(p)\n",
    "        points = sorted(ps, key=attrgetter('z'))\n",
    "        frames.append(frame(t, points))\n",
    "    with open('pickles/' + filename + '.pickle', 'wb') as f:\n",
    "        pickle.dump(frames, f)"
   ]
  },
  {
   "cell_type": "code",
   "execution_count": null,
   "metadata": {},
   "outputs": [],
   "source": []
  }
 ],
 "metadata": {
  "interpreter": {
   "hash": "50417b17092be1d7c2348d1d593932fa38b32b878dc9122235b7cc9e1a3cc24f"
  },
  "kernelspec": {
   "display_name": "Python 3.8.12 64-bit ('base': conda)",
   "language": "python",
   "name": "python3"
  },
  "language_info": {
   "codemirror_mode": {
    "name": "ipython",
    "version": 3
   },
   "file_extension": ".py",
   "mimetype": "text/x-python",
   "name": "python",
   "nbconvert_exporter": "python",
   "pygments_lexer": "ipython3",
   "version": "3.8.12"
  },
  "orig_nbformat": 4
 },
 "nbformat": 4,
 "nbformat_minor": 2
}
