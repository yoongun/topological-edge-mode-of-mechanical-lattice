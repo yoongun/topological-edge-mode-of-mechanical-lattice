{
 "cells": [
  {
   "cell_type": "code",
   "execution_count": 8,
   "metadata": {},
   "outputs": [
    {
     "data": {
      "text/plain": [
       "<bound method NDFrame.head of       Sample       Time   X   Y   Z  X.1  Y.1  Z.1  X.2  Y.2  ...  X.553  \\\n",
       "0          0   0.000000 NaN NaN NaN  NaN  NaN  NaN  NaN  NaN  ...    NaN   \n",
       "1          1   0.004167 NaN NaN NaN  NaN  NaN  NaN  NaN  NaN  ...    NaN   \n",
       "2          2   0.008333 NaN NaN NaN  NaN  NaN  NaN  NaN  NaN  ...    NaN   \n",
       "3          3   0.012500 NaN NaN NaN  NaN  NaN  NaN  NaN  NaN  ...    NaN   \n",
       "4          4   0.016667 NaN NaN NaN  NaN  NaN  NaN  NaN  NaN  ...    NaN   \n",
       "...      ...        ...  ..  ..  ..  ...  ...  ...  ...  ...  ...    ...   \n",
       "7557    7557  31.487502 NaN NaN NaN  NaN  NaN  NaN  NaN  NaN  ...    NaN   \n",
       "7558    7558  31.491669 NaN NaN NaN  NaN  NaN  NaN  NaN  NaN  ...    NaN   \n",
       "7559    7559  31.495835 NaN NaN NaN  NaN  NaN  NaN  NaN  NaN  ...    NaN   \n",
       "7560    7560  31.500002 NaN NaN NaN  NaN  NaN  NaN  NaN  NaN  ...    NaN   \n",
       "7561    7561  31.504169 NaN NaN NaN  NaN  NaN  NaN  NaN  NaN  ...    NaN   \n",
       "\n",
       "      Y.553  Z.553  X.554  Y.554  Z.554    X.555    Y.555   Z.555  \\\n",
       "0       NaN    NaN    NaN    NaN    NaN      NaN      NaN     NaN   \n",
       "1       NaN    NaN    NaN    NaN    NaN      NaN      NaN     NaN   \n",
       "2       NaN    NaN    NaN    NaN    NaN      NaN      NaN     NaN   \n",
       "3       NaN    NaN    NaN    NaN    NaN      NaN      NaN     NaN   \n",
       "4       NaN    NaN    NaN    NaN    NaN      NaN      NaN     NaN   \n",
       "...     ...    ...    ...    ...    ...      ...      ...     ...   \n",
       "7557    NaN    NaN    NaN    NaN    NaN  794.842 -506.391 -57.945   \n",
       "7558    NaN    NaN    NaN    NaN    NaN  789.285 -508.113 -57.777   \n",
       "7559    NaN    NaN    NaN    NaN    NaN  783.867 -509.635 -57.734   \n",
       "7560    NaN    NaN    NaN    NaN    NaN  778.708 -510.708 -57.539   \n",
       "7561    NaN    NaN    NaN    NaN    NaN  773.309 -512.087 -57.539   \n",
       "\n",
       "      Unnamed: 1670  \n",
       "0               NaN  \n",
       "1               NaN  \n",
       "2               NaN  \n",
       "3               NaN  \n",
       "4               NaN  \n",
       "...             ...  \n",
       "7557            NaN  \n",
       "7558            NaN  \n",
       "7559            NaN  \n",
       "7560            NaN  \n",
       "7561            NaN  \n",
       "\n",
       "[7562 rows x 1671 columns]>"
      ]
     },
     "execution_count": 8,
     "metadata": {},
     "output_type": "execute_result"
    }
   ],
   "source": [
    "import pandas as pd\n",
    "\n",
    "\n",
    "df = pd.read_csv(\"data4.csv\")\n",
    "df.head"
   ]
  },
  {
   "cell_type": "code",
   "execution_count": 9,
   "metadata": {},
   "outputs": [
    {
     "name": "stdout",
     "output_type": "stream",
     "text": [
      "(7562, 1671)\n"
     ]
    }
   ],
   "source": [
    "from operator import attrgetter\n",
    "from collections import namedtuple\n",
    "import numpy as np\n",
    "\n",
    "point = namedtuple('point', 'x y z')\n",
    "\n",
    "print(df.shape)\n",
    "pss = []\n",
    "for i, r in df.iterrows():\n",
    "    t = r[1]\n",
    "    r = r[2:]\n",
    "    ps = []\n",
    "    for j in range(0, len(r[2:]), 3):\n",
    "        x, y, z = r[j:j+3]\n",
    "        if np.isnan(x) or np.isnan(y) or np.isnan(z):\n",
    "            continue\n",
    "        p = point(x, y, z)\n",
    "        ps.append(p)\n",
    "    ps = sorted(ps, key=attrgetter('x'), reverse=True)\n",
    "    pss.append(ps)"
   ]
  },
  {
   "cell_type": "code",
   "execution_count": 15,
   "metadata": {},
   "outputs": [
    {
     "name": "stdout",
     "output_type": "stream",
     "text": [
      "7562\n"
     ]
    },
    {
     "data": {
      "application/vnd.plotly.v1+json": {
       "config": {
        "plotlyServerURL": "https://plot.ly"
       },
       "data": [
        {
         "marker": {
          "color": -57.539,
          "colorscale": [
           [
            0,
            "#440154"
           ],
           [
            0.1111111111111111,
            "#482878"
           ],
           [
            0.2222222222222222,
            "#3e4989"
           ],
           [
            0.3333333333333333,
            "#31688e"
           ],
           [
            0.4444444444444444,
            "#26828e"
           ],
           [
            0.5555555555555556,
            "#1f9e89"
           ],
           [
            0.6666666666666666,
            "#35b779"
           ],
           [
            0.7777777777777778,
            "#6ece58"
           ],
           [
            0.8888888888888888,
            "#b5de2b"
           ],
           [
            1,
            "#fde725"
           ]
          ],
          "opacity": 0.8,
          "size": 5
         },
         "mode": "markers",
         "type": "scatter3d",
         "x": [
          1143.125,
          1125.124,
          1119.896,
          1109.815,
          1104.007,
          1091.903,
          1086.96,
          1086.96,
          1071.916,
          1062.071,
          1044.256,
          1037.453,
          1036.924,
          1025.265,
          1003.664,
          993.277,
          993.277,
          987.805,
          976.579,
          975.76,
          972.02,
          960.802,
          958.037,
          953.432,
          945.561,
          939.473,
          938.929,
          931.585,
          922.875,
          912.362,
          910.634,
          906.169,
          894.768,
          893.17,
          884.841,
          880.762,
          880.762,
          880.175,
          874.062,
          867.465,
          867.465,
          864.48,
          864.48,
          851.285,
          848.312,
          843.055,
          833.57,
          830.517,
          823.756,
          814.189,
          812.391,
          806.439,
          800.803,
          796.952,
          792.477,
          788.538,
          786.244,
          782.31,
          782.31,
          775.2,
          773.295,
          767.715,
          759.093,
          755.966,
          750.272,
          743.602,
          743.602,
          741.65,
          735.909,
          734.415,
          727.038,
          715.303,
          715.233,
          708.433,
          703.672,
          698.78,
          692.934,
          692.814,
          691.903,
          688.931,
          688.931,
          683.793,
          681.794,
          676.354,
          675.365,
          674.2339,
          660.214,
          654.946,
          653.289,
          646.05,
          645.426,
          633.584,
          633.13,
          630.0341,
          618.749,
          618.749,
          614.677,
          613.422,
          607.337,
          607.337,
          599.828,
          594.4839,
          594.133,
          593.434,
          587.148,
          579.572,
          573.509,
          573.259,
          562.735,
          553.061,
          552.597,
          546.563,
          536.119,
          531.577,
          531.482,
          519.526,
          514.377,
          512.18,
          508.314,
          498.565,
          491.756,
          481.473,
          472.411,
          471.162,
          454.632,
          449.792,
          449.792,
          447.65,
          447.65,
          439.488,
          434.829,
          433.101,
          426.38,
          415.414,
          412.391,
          408.946,
          405.896,
          392.292,
          392.118,
          374.033,
          374.033,
          371.551,
          355.874,
          352.781,
          349.91,
          346.063,
          334.33,
          332.596,
          320.344,
          311.009,
          311.009,
          294.841,
          293.944,
          276.3,
          260.942,
          258.165,
          258.165,
          240.167,
          240.167
         ],
         "y": [
          -235.215,
          -132.971,
          -290.608,
          -28.371,
          -189.792,
          74.466,
          -85.60001,
          -85.60001,
          17.85,
          -301.415,
          -201.668,
          222.709,
          -356.462,
          -95.48299,
          -154.96,
          111.231,
          111.231,
          -49.329,
          213.665,
          -370.903,
          54.6,
          -271.814,
          -423.863,
          158,
          -163.097,
          259.637,
          -323.403,
          -57.683,
          -223.96,
          44.607,
          -114.391,
          -434.854,
          147.581,
          -8.948,
          -338.439,
          -489.668,
          -489.668,
          249.811,
          92.602,
          -235.503,
          -235.503,
          -393.046,
          -393.046,
          -125.604,
          -295.033,
          295.271,
          -19.317,
          -184.202,
          -502.54,
          -77.253,
          82.39799,
          -404.272,
          -558.526,
          184.036,
          26.779,
          -301.341,
          -460.611,
          286.302,
          286.302,
          126.849,
          -193.44,
          -358.264,
          230.151,
          -86.644,
          -252.337,
          333.463,
          333.463,
          -566.22,
          -143.736,
          14.423,
          -470.186,
          -41.682,
          117.781,
          -367.384,
          -522.01,
          220.662,
          61.619,
          -260.92,
          -88.103,
          -422.429,
          -422.429,
          323.574,
          -63.765,
          163.637,
          -155.605,
          -318.345,
          267.375,
          -210.453,
          -52.908,
          -530.064,
          372.437,
          50.279,
          -107.766,
          -429.009,
          154.042,
          154.042,
          -324.978,
          -5.692,
          -484.502,
          -484.502,
          257.826,
          96.339,
          -380.422,
          -219.43,
          361.544,
          200.735,
          -276.836,
          -117.428,
          304.988,
          -16.035,
          -175.228,
          -493.826,
          86.706,
          -389.978,
          -72.94,
          190.651,
          28.945,
          -288.258,
          -446.27,
          134.898,
          -184.717,
          236.956,
          -241.23,
          -81.983,
          20.88,
          -139.112,
          -139.112,
          -456.048,
          -456.048,
          123.955,
          -36.177,
          -354.126,
          225.531,
          66.887,
          -252.623,
          -410.179,
          171.219,
          -148.41,
          -307.238,
          -46.926,
          -46.926,
          -205.407,
          56.264,
          -101.862,
          -419.556,
          160.794,
          0.951,
          -315.857,
          103.485,
          -371.981,
          -371.981,
          -111.616,
          -269.381,
          -165.271,
          92.205,
          -64.04,
          -64.04,
          36.413,
          36.413
         ],
         "z": [
          -60.486,
          -60.888,
          -60.593,
          -60.32,
          -60.21,
          -59.559,
          -60.185,
          -60.185,
          -59.791,
          -60.366,
          -61.443,
          -58.264,
          -59.747,
          -60.733,
          -60.763,
          -59.063,
          -59.063,
          -60.613,
          -57.647,
          -58.878,
          -61.11,
          -60.291,
          -58.815,
          -58.787,
          -60.686,
          -57.662,
          -59.996,
          -60.029,
          -60.359,
          -59.914,
          -60.338,
          -58.842,
          -59.078,
          -59.888,
          -59.76,
          -58.548,
          -58.548,
          -57.579,
          -59.557,
          -60.553,
          -60.553,
          -59.692,
          -59.692,
          -60.214,
          -59.395,
          -56.964,
          -60.357,
          -60.262,
          -58.603,
          -59.696,
          -59.21,
          -59.755,
          -57.691,
          -58.992,
          -60.309,
          -59.928,
          -59.367,
          -56.784,
          -56.784,
          -59.03,
          -60.463,
          -60.292,
          -58.557,
          -59.919,
          -60.502,
          -56.433,
          -56.433,
          -57.769,
          -60.392,
          -60.171,
          -58.836,
          -60.108,
          -59.89,
          -59.245,
          -58.234,
          -58.684,
          -59.339,
          -60.261,
          -664.147,
          -58.379,
          -58.379,
          -57.532,
          -611.329,
          -59.189,
          -59.741,
          -60.027,
          -57.799,
          -61.005,
          -59.828,
          -58.374,
          -56.547,
          -59.661,
          -60.581,
          -59.731,
          -58.717,
          -58.717,
          -60.192,
          -60.305,
          -59.237,
          -59.237,
          -58.334,
          -59.555,
          -60.256,
          -60.893,
          -57.171,
          -58.681,
          -60.611,
          -60.95,
          -57.283,
          -60.844,
          -61.482,
          -59.086,
          -60.013,
          -60.472,
          -60.74,
          -58.33,
          -60.339,
          -62.201,
          -59.435,
          -59.269,
          -60.446,
          -58.461,
          -60.558,
          -60.837,
          -60.425,
          -61.115,
          -61.115,
          -60.716,
          -60.716,
          -59.337,
          -59.566,
          -60.624,
          -58.463,
          -60.657,
          -60.525,
          -60.731,
          -59.236,
          -61.016,
          -61.104,
          -60.214,
          -60.214,
          -61.1,
          -59.782,
          -60.637,
          -61.147,
          -58.314,
          -60.197,
          -60.067,
          -59.502,
          -60.416,
          -60.416,
          -60.765,
          -60.247,
          -60.806,
          -59.68,
          -60.441,
          -60.441,
          -60.399,
          -60.399
         ]
        }
       ],
       "layout": {
        "margin": {
         "b": 0,
         "l": 0,
         "r": 0,
         "t": 0
        },
        "template": {
         "data": {
          "bar": [
           {
            "error_x": {
             "color": "#2a3f5f"
            },
            "error_y": {
             "color": "#2a3f5f"
            },
            "marker": {
             "line": {
              "color": "#E5ECF6",
              "width": 0.5
             },
             "pattern": {
              "fillmode": "overlay",
              "size": 10,
              "solidity": 0.2
             }
            },
            "type": "bar"
           }
          ],
          "barpolar": [
           {
            "marker": {
             "line": {
              "color": "#E5ECF6",
              "width": 0.5
             },
             "pattern": {
              "fillmode": "overlay",
              "size": 10,
              "solidity": 0.2
             }
            },
            "type": "barpolar"
           }
          ],
          "carpet": [
           {
            "aaxis": {
             "endlinecolor": "#2a3f5f",
             "gridcolor": "white",
             "linecolor": "white",
             "minorgridcolor": "white",
             "startlinecolor": "#2a3f5f"
            },
            "baxis": {
             "endlinecolor": "#2a3f5f",
             "gridcolor": "white",
             "linecolor": "white",
             "minorgridcolor": "white",
             "startlinecolor": "#2a3f5f"
            },
            "type": "carpet"
           }
          ],
          "choropleth": [
           {
            "colorbar": {
             "outlinewidth": 0,
             "ticks": ""
            },
            "type": "choropleth"
           }
          ],
          "contour": [
           {
            "colorbar": {
             "outlinewidth": 0,
             "ticks": ""
            },
            "colorscale": [
             [
              0,
              "#0d0887"
             ],
             [
              0.1111111111111111,
              "#46039f"
             ],
             [
              0.2222222222222222,
              "#7201a8"
             ],
             [
              0.3333333333333333,
              "#9c179e"
             ],
             [
              0.4444444444444444,
              "#bd3786"
             ],
             [
              0.5555555555555556,
              "#d8576b"
             ],
             [
              0.6666666666666666,
              "#ed7953"
             ],
             [
              0.7777777777777778,
              "#fb9f3a"
             ],
             [
              0.8888888888888888,
              "#fdca26"
             ],
             [
              1,
              "#f0f921"
             ]
            ],
            "type": "contour"
           }
          ],
          "contourcarpet": [
           {
            "colorbar": {
             "outlinewidth": 0,
             "ticks": ""
            },
            "type": "contourcarpet"
           }
          ],
          "heatmap": [
           {
            "colorbar": {
             "outlinewidth": 0,
             "ticks": ""
            },
            "colorscale": [
             [
              0,
              "#0d0887"
             ],
             [
              0.1111111111111111,
              "#46039f"
             ],
             [
              0.2222222222222222,
              "#7201a8"
             ],
             [
              0.3333333333333333,
              "#9c179e"
             ],
             [
              0.4444444444444444,
              "#bd3786"
             ],
             [
              0.5555555555555556,
              "#d8576b"
             ],
             [
              0.6666666666666666,
              "#ed7953"
             ],
             [
              0.7777777777777778,
              "#fb9f3a"
             ],
             [
              0.8888888888888888,
              "#fdca26"
             ],
             [
              1,
              "#f0f921"
             ]
            ],
            "type": "heatmap"
           }
          ],
          "heatmapgl": [
           {
            "colorbar": {
             "outlinewidth": 0,
             "ticks": ""
            },
            "colorscale": [
             [
              0,
              "#0d0887"
             ],
             [
              0.1111111111111111,
              "#46039f"
             ],
             [
              0.2222222222222222,
              "#7201a8"
             ],
             [
              0.3333333333333333,
              "#9c179e"
             ],
             [
              0.4444444444444444,
              "#bd3786"
             ],
             [
              0.5555555555555556,
              "#d8576b"
             ],
             [
              0.6666666666666666,
              "#ed7953"
             ],
             [
              0.7777777777777778,
              "#fb9f3a"
             ],
             [
              0.8888888888888888,
              "#fdca26"
             ],
             [
              1,
              "#f0f921"
             ]
            ],
            "type": "heatmapgl"
           }
          ],
          "histogram": [
           {
            "marker": {
             "pattern": {
              "fillmode": "overlay",
              "size": 10,
              "solidity": 0.2
             }
            },
            "type": "histogram"
           }
          ],
          "histogram2d": [
           {
            "colorbar": {
             "outlinewidth": 0,
             "ticks": ""
            },
            "colorscale": [
             [
              0,
              "#0d0887"
             ],
             [
              0.1111111111111111,
              "#46039f"
             ],
             [
              0.2222222222222222,
              "#7201a8"
             ],
             [
              0.3333333333333333,
              "#9c179e"
             ],
             [
              0.4444444444444444,
              "#bd3786"
             ],
             [
              0.5555555555555556,
              "#d8576b"
             ],
             [
              0.6666666666666666,
              "#ed7953"
             ],
             [
              0.7777777777777778,
              "#fb9f3a"
             ],
             [
              0.8888888888888888,
              "#fdca26"
             ],
             [
              1,
              "#f0f921"
             ]
            ],
            "type": "histogram2d"
           }
          ],
          "histogram2dcontour": [
           {
            "colorbar": {
             "outlinewidth": 0,
             "ticks": ""
            },
            "colorscale": [
             [
              0,
              "#0d0887"
             ],
             [
              0.1111111111111111,
              "#46039f"
             ],
             [
              0.2222222222222222,
              "#7201a8"
             ],
             [
              0.3333333333333333,
              "#9c179e"
             ],
             [
              0.4444444444444444,
              "#bd3786"
             ],
             [
              0.5555555555555556,
              "#d8576b"
             ],
             [
              0.6666666666666666,
              "#ed7953"
             ],
             [
              0.7777777777777778,
              "#fb9f3a"
             ],
             [
              0.8888888888888888,
              "#fdca26"
             ],
             [
              1,
              "#f0f921"
             ]
            ],
            "type": "histogram2dcontour"
           }
          ],
          "mesh3d": [
           {
            "colorbar": {
             "outlinewidth": 0,
             "ticks": ""
            },
            "type": "mesh3d"
           }
          ],
          "parcoords": [
           {
            "line": {
             "colorbar": {
              "outlinewidth": 0,
              "ticks": ""
             }
            },
            "type": "parcoords"
           }
          ],
          "pie": [
           {
            "automargin": true,
            "type": "pie"
           }
          ],
          "scatter": [
           {
            "marker": {
             "colorbar": {
              "outlinewidth": 0,
              "ticks": ""
             }
            },
            "type": "scatter"
           }
          ],
          "scatter3d": [
           {
            "line": {
             "colorbar": {
              "outlinewidth": 0,
              "ticks": ""
             }
            },
            "marker": {
             "colorbar": {
              "outlinewidth": 0,
              "ticks": ""
             }
            },
            "type": "scatter3d"
           }
          ],
          "scattercarpet": [
           {
            "marker": {
             "colorbar": {
              "outlinewidth": 0,
              "ticks": ""
             }
            },
            "type": "scattercarpet"
           }
          ],
          "scattergeo": [
           {
            "marker": {
             "colorbar": {
              "outlinewidth": 0,
              "ticks": ""
             }
            },
            "type": "scattergeo"
           }
          ],
          "scattergl": [
           {
            "marker": {
             "colorbar": {
              "outlinewidth": 0,
              "ticks": ""
             }
            },
            "type": "scattergl"
           }
          ],
          "scattermapbox": [
           {
            "marker": {
             "colorbar": {
              "outlinewidth": 0,
              "ticks": ""
             }
            },
            "type": "scattermapbox"
           }
          ],
          "scatterpolar": [
           {
            "marker": {
             "colorbar": {
              "outlinewidth": 0,
              "ticks": ""
             }
            },
            "type": "scatterpolar"
           }
          ],
          "scatterpolargl": [
           {
            "marker": {
             "colorbar": {
              "outlinewidth": 0,
              "ticks": ""
             }
            },
            "type": "scatterpolargl"
           }
          ],
          "scatterternary": [
           {
            "marker": {
             "colorbar": {
              "outlinewidth": 0,
              "ticks": ""
             }
            },
            "type": "scatterternary"
           }
          ],
          "surface": [
           {
            "colorbar": {
             "outlinewidth": 0,
             "ticks": ""
            },
            "colorscale": [
             [
              0,
              "#0d0887"
             ],
             [
              0.1111111111111111,
              "#46039f"
             ],
             [
              0.2222222222222222,
              "#7201a8"
             ],
             [
              0.3333333333333333,
              "#9c179e"
             ],
             [
              0.4444444444444444,
              "#bd3786"
             ],
             [
              0.5555555555555556,
              "#d8576b"
             ],
             [
              0.6666666666666666,
              "#ed7953"
             ],
             [
              0.7777777777777778,
              "#fb9f3a"
             ],
             [
              0.8888888888888888,
              "#fdca26"
             ],
             [
              1,
              "#f0f921"
             ]
            ],
            "type": "surface"
           }
          ],
          "table": [
           {
            "cells": {
             "fill": {
              "color": "#EBF0F8"
             },
             "line": {
              "color": "white"
             }
            },
            "header": {
             "fill": {
              "color": "#C8D4E3"
             },
             "line": {
              "color": "white"
             }
            },
            "type": "table"
           }
          ]
         },
         "layout": {
          "annotationdefaults": {
           "arrowcolor": "#2a3f5f",
           "arrowhead": 0,
           "arrowwidth": 1
          },
          "autotypenumbers": "strict",
          "coloraxis": {
           "colorbar": {
            "outlinewidth": 0,
            "ticks": ""
           }
          },
          "colorscale": {
           "diverging": [
            [
             0,
             "#8e0152"
            ],
            [
             0.1,
             "#c51b7d"
            ],
            [
             0.2,
             "#de77ae"
            ],
            [
             0.3,
             "#f1b6da"
            ],
            [
             0.4,
             "#fde0ef"
            ],
            [
             0.5,
             "#f7f7f7"
            ],
            [
             0.6,
             "#e6f5d0"
            ],
            [
             0.7,
             "#b8e186"
            ],
            [
             0.8,
             "#7fbc41"
            ],
            [
             0.9,
             "#4d9221"
            ],
            [
             1,
             "#276419"
            ]
           ],
           "sequential": [
            [
             0,
             "#0d0887"
            ],
            [
             0.1111111111111111,
             "#46039f"
            ],
            [
             0.2222222222222222,
             "#7201a8"
            ],
            [
             0.3333333333333333,
             "#9c179e"
            ],
            [
             0.4444444444444444,
             "#bd3786"
            ],
            [
             0.5555555555555556,
             "#d8576b"
            ],
            [
             0.6666666666666666,
             "#ed7953"
            ],
            [
             0.7777777777777778,
             "#fb9f3a"
            ],
            [
             0.8888888888888888,
             "#fdca26"
            ],
            [
             1,
             "#f0f921"
            ]
           ],
           "sequentialminus": [
            [
             0,
             "#0d0887"
            ],
            [
             0.1111111111111111,
             "#46039f"
            ],
            [
             0.2222222222222222,
             "#7201a8"
            ],
            [
             0.3333333333333333,
             "#9c179e"
            ],
            [
             0.4444444444444444,
             "#bd3786"
            ],
            [
             0.5555555555555556,
             "#d8576b"
            ],
            [
             0.6666666666666666,
             "#ed7953"
            ],
            [
             0.7777777777777778,
             "#fb9f3a"
            ],
            [
             0.8888888888888888,
             "#fdca26"
            ],
            [
             1,
             "#f0f921"
            ]
           ]
          },
          "colorway": [
           "#636efa",
           "#EF553B",
           "#00cc96",
           "#ab63fa",
           "#FFA15A",
           "#19d3f3",
           "#FF6692",
           "#B6E880",
           "#FF97FF",
           "#FECB52"
          ],
          "font": {
           "color": "#2a3f5f"
          },
          "geo": {
           "bgcolor": "white",
           "lakecolor": "white",
           "landcolor": "#E5ECF6",
           "showlakes": true,
           "showland": true,
           "subunitcolor": "white"
          },
          "hoverlabel": {
           "align": "left"
          },
          "hovermode": "closest",
          "mapbox": {
           "style": "light"
          },
          "paper_bgcolor": "white",
          "plot_bgcolor": "#E5ECF6",
          "polar": {
           "angularaxis": {
            "gridcolor": "white",
            "linecolor": "white",
            "ticks": ""
           },
           "bgcolor": "#E5ECF6",
           "radialaxis": {
            "gridcolor": "white",
            "linecolor": "white",
            "ticks": ""
           }
          },
          "scene": {
           "xaxis": {
            "backgroundcolor": "#E5ECF6",
            "gridcolor": "white",
            "gridwidth": 2,
            "linecolor": "white",
            "showbackground": true,
            "ticks": "",
            "zerolinecolor": "white"
           },
           "yaxis": {
            "backgroundcolor": "#E5ECF6",
            "gridcolor": "white",
            "gridwidth": 2,
            "linecolor": "white",
            "showbackground": true,
            "ticks": "",
            "zerolinecolor": "white"
           },
           "zaxis": {
            "backgroundcolor": "#E5ECF6",
            "gridcolor": "white",
            "gridwidth": 2,
            "linecolor": "white",
            "showbackground": true,
            "ticks": "",
            "zerolinecolor": "white"
           }
          },
          "shapedefaults": {
           "line": {
            "color": "#2a3f5f"
           }
          },
          "ternary": {
           "aaxis": {
            "gridcolor": "white",
            "linecolor": "white",
            "ticks": ""
           },
           "baxis": {
            "gridcolor": "white",
            "linecolor": "white",
            "ticks": ""
           },
           "bgcolor": "#E5ECF6",
           "caxis": {
            "gridcolor": "white",
            "linecolor": "white",
            "ticks": ""
           }
          },
          "title": {
           "x": 0.05
          },
          "xaxis": {
           "automargin": true,
           "gridcolor": "white",
           "linecolor": "white",
           "ticks": "",
           "title": {
            "standoff": 15
           },
           "zerolinecolor": "white",
           "zerolinewidth": 2
          },
          "yaxis": {
           "automargin": true,
           "gridcolor": "white",
           "linecolor": "white",
           "ticks": "",
           "title": {
            "standoff": 15
           },
           "zerolinecolor": "white",
           "zerolinewidth": 2
          }
         }
        }
       }
      }
     },
     "metadata": {},
     "output_type": "display_data"
    }
   ],
   "source": [
    "import plotly.graph_objects as go\n",
    "import numpy as np\n",
    "\n",
    "print(len(pss))\n",
    "\n",
    "fig = go.Figure(data=[go.Scatter3d(\n",
    "    x=[p.x for p in pss[-500]],\n",
    "    y=[p.y for p in pss[-500]],\n",
    "    z=[p.z for p in pss[-500]],\n",
    "    mode='markers',\n",
    "    marker=dict(\n",
    "        size=5,\n",
    "        color=z,                # set color to an array/list of desired values\n",
    "        colorscale='Viridis',   # choose a colorscale\n",
    "        opacity=0.8\n",
    "    )\n",
    ")])\n",
    "\n",
    "# tight layout\n",
    "fig.update_layout(margin=dict(l=0, r=0, b=0, t=0))\n",
    "fig.show()"
   ]
  },
  {
   "cell_type": "code",
   "execution_count": null,
   "metadata": {},
   "outputs": [],
   "source": []
  }
 ],
 "metadata": {
  "interpreter": {
   "hash": "b0fa6594d8f4cbf19f97940f81e996739fb7646882a419484c72d19e05852a7e"
  },
  "kernelspec": {
   "display_name": "Python 3.9.6 64-bit",
   "language": "python",
   "name": "python3"
  },
  "language_info": {
   "codemirror_mode": {
    "name": "ipython",
    "version": 3
   },
   "file_extension": ".py",
   "mimetype": "text/x-python",
   "name": "python",
   "nbconvert_exporter": "python",
   "pygments_lexer": "ipython3",
   "version": "3.8.12"
  },
  "orig_nbformat": 4
 },
 "nbformat": 4,
 "nbformat_minor": 2
}
