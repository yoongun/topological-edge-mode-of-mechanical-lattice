{
 "cells": [
  {
   "cell_type": "markdown",
   "metadata": {},
   "source": [
    "## Fig 1: Dispersion relation"
   ]
  },
  {
   "cell_type": "code",
   "execution_count": 58,
   "metadata": {},
   "outputs": [],
   "source": [
    "from meclat import MechanicalLattice1D"
   ]
  },
  {
   "cell_type": "code",
   "execution_count": 59,
   "metadata": {},
   "outputs": [],
   "source": [
    "ml1d = MechanicalLattice1D(k=[.7, 1.3], m=[1.3, .7], precision=0.1)\n",
    "ws, evs = ml1d.dispersion()\n",
    "\n",
    "# w0 = ws[:, 0]\n",
    "# w1 = ws[:, 1]\n",
    "# print(w0.shape)\n",
    "# print(w0)\n",
    "# print(evs[0].shape)\n",
    "# print(evs[0])"
   ]
  },
  {
   "cell_type": "code",
   "execution_count": 60,
   "metadata": {},
   "outputs": [],
   "source": [
    "import pandas as pd\n",
    "import numpy as np\n",
    "\n",
    "w0 = ws[:, 0]\n",
    "w1 = ws[:, 1]\n",
    "ws = np.append(w0, w1)\n",
    "\n",
    "x = np.append(ml1d.qs, ml1d.qs)\n",
    "y = ws\n",
    "index = np.append(np.repeat(0, len(ml1d.qs)), np.repeat(1, len(ml1d.qs)))\n",
    "\n",
    "\n",
    "df = pd.DataFrame({\n",
    "    \"q\": x,\n",
    "    \"w\": y,\n",
    "    \"index\": index,\n",
    "})"
   ]
  },
  {
   "cell_type": "code",
   "execution_count": 61,
   "metadata": {},
   "outputs": [
    {
     "data": {
      "application/vnd.plotly.v1+json": {
       "config": {
        "plotlyServerURL": "https://plot.ly"
       },
       "data": [
        {
         "hovertemplate": "index=0<br>q=%{x}<br>w=%{y}<extra></extra>",
         "legendgroup": "0",
         "line": {
          "color": "#636efa",
          "dash": "solid"
         },
         "marker": {
          "symbol": "circle"
         },
         "mode": "lines",
         "name": "0",
         "orientation": "v",
         "showlegend": true,
         "type": "scatter",
         "x": [
          -3.141592653589793,
          -3.041592653589793,
          -2.941592653589793,
          -2.841592653589793,
          -2.7415926535897928,
          -2.6415926535897927,
          -2.5415926535897926,
          -2.4415926535897925,
          -2.3415926535897924,
          -2.2415926535897923,
          -2.1415926535897922,
          -2.041592653589792,
          -1.941592653589792,
          -1.841592653589792,
          -1.7415926535897919,
          -1.6415926535897918,
          -1.5415926535897917,
          -1.4415926535897916,
          -1.3415926535897915,
          -1.2415926535897914,
          -1.1415926535897913,
          -1.0415926535897913,
          -0.9415926535897912,
          -0.8415926535897911,
          -0.741592653589791,
          -0.6415926535897909,
          -0.5415926535897908,
          -0.4415926535897907,
          -0.34159265358979063,
          -0.24159265358979054,
          -0.14159265358979045,
          -0.04159265358979036,
          0.058407346410209726,
          0.15840734641020981,
          0.2584073464102099,
          0.35840734641021,
          0.4584073464102101,
          0.5584073464102102,
          0.6584073464102103,
          0.7584073464102103,
          0.8584073464102104,
          0.9584073464102101,
          1.0584073464102106,
          1.1584073464102111,
          1.2584073464102108,
          1.3584073464102104,
          1.458407346410211,
          1.5584073464102115,
          1.6584073464102111,
          1.7584073464102108,
          1.8584073464102113,
          1.9584073464102119,
          2.0584073464102115,
          2.158407346410211,
          2.2584073464102117,
          2.358407346410212,
          2.458407346410212,
          2.5584073464102115,
          2.658407346410212,
          2.7584073464102126,
          2.858407346410212,
          2.958407346410212,
          3.0584073464102124
         ],
         "xaxis": "x",
         "y": [
          1.1342730170867514,
          1.131860917117916,
          1.1247027902952693,
          1.1130194755757132,
          1.097138739040694,
          1.0774499768280144,
          1.054361964364099,
          1.0282712235523184,
          0.9995427788712508,
          0.9685013401200158,
          0.9354296545431403,
          0.900571013671379,
          0.8641337176597117,
          0.8262961250264367,
          0.787211538380372,
          0.7470125791451996,
          0.7058149370090832,
          0.6637205009997154,
          0.6208199339698537,
          0.5771947708489132,
          0.5329191213320075,
          0.4880610498977943,
          0.44268369553845627,
          0.3968461829823005,
          0.3506043676412692,
          0.3040114484068929,
          0.2571184757657952,
          0.20997477736995476,
          0.16262831898703348,
          0.11512601548283882,
          0.06751400398419806,
          0.019837889498766147,
          0.027857028078671693,
          0.07552553754423018,
          0.12312230302782642,
          0.17060164632662864,
          0.2179173173498684,
          0.2650222445230174,
          0.311868256028299,
          0.358405761329535,
          0.40458338045958137,
          0.4503475059259872,
          0.49564177867203496,
          0.5404064551449329,
          0.5845776369783194,
          0.6280863279062646,
          0.6708572741672828,
          0.7128075348899054,
          0.7538447182548905,
          0.7938648089403537,
          0.8327495054624047,
          0.870362988528347,
          0.9065480646618221,
          0.9411216929076124,
          0.9738700387502841,
          1.0045434563691105,
          1.0328522370819597,
          1.0584646231140318,
          1.0810094320369426,
          1.1000864095053497,
          1.1152874872950813,
          1.1262304658292435,
          1.1326024762262508
         ],
         "yaxis": "y"
        },
        {
         "hovertemplate": "index=1<br>q=%{x}<br>w=%{y}<extra></extra>",
         "legendgroup": "1",
         "line": {
          "color": "#EF553B",
          "dash": "solid"
         },
         "marker": {
          "symbol": "circle"
         },
         "mode": "lines",
         "name": "1",
         "orientation": "v",
         "showlegend": true,
         "type": "scatter",
         "x": [
          -3.141592653589793,
          -3.041592653589793,
          -2.941592653589793,
          -2.841592653589793,
          -2.7415926535897928,
          -2.6415926535897927,
          -2.5415926535897926,
          -2.4415926535897925,
          -2.3415926535897924,
          -2.2415926535897923,
          -2.1415926535897922,
          -2.041592653589792,
          -1.941592653589792,
          -1.841592653589792,
          -1.7415926535897919,
          -1.6415926535897918,
          -1.5415926535897917,
          -1.4415926535897916,
          -1.3415926535897915,
          -1.2415926535897914,
          -1.1415926535897913,
          -1.0415926535897913,
          -0.9415926535897912,
          -0.8415926535897911,
          -0.741592653589791,
          -0.6415926535897909,
          -0.5415926535897908,
          -0.4415926535897907,
          -0.34159265358979063,
          -0.24159265358979054,
          -0.14159265358979045,
          -0.04159265358979036,
          0.058407346410209726,
          0.15840734641020981,
          0.2584073464102099,
          0.35840734641021,
          0.4584073464102101,
          0.5584073464102102,
          0.6584073464102103,
          0.7584073464102103,
          0.8584073464102104,
          0.9584073464102101,
          1.0584073464102106,
          1.1584073464102111,
          1.2584073464102108,
          1.3584073464102104,
          1.458407346410211,
          1.5584073464102115,
          1.6584073464102111,
          1.7584073464102108,
          1.8584073464102113,
          1.9584073464102119,
          2.0584073464102115,
          2.158407346410211,
          2.2584073464102117,
          2.358407346410212,
          2.458407346410212,
          2.5584073464102115,
          2.658407346410212,
          2.7584073464102126,
          2.858407346410212,
          2.958407346410212,
          3.0584073464102124
         ],
         "xaxis": "x",
         "y": [
          1.7632439191199025,
          1.76479326265299,
          1.7693637356706597,
          1.7767363458300613,
          1.7865864051034845,
          1.7985288274135915,
          1.8121603802386457,
          1.827091318576774,
          1.8429646303743143,
          1.8594648557555824,
          1.876319737413029,
          1.8932977169318355,
          1.9102034743995209,
          1.9268728835526985,
          1.9431681320578524,
          1.958973354133035,
          1.9741908900355252,
          1.9887381658119507,
          2.0025451318734526,
          2.015552180448094,
          2.0277084617180834,
          2.0389705263139684,
          2.049301232447004,
          2.0586688666846773,
          2.067046437067939,
          2.074411105553077,
          2.0807437336260968,
          2.0860285205319777,
          2.0902527180864636,
          2.0934064096977063,
          2.0954823442039343,
          2.096475817591186,
          2.0963845977279596,
          2.0952088890569005,
          2.0929513358178014,
          2.0896170639318195,
          2.0852137632394983,
          2.0797518134413004,
          2.073244458930558,
          2.0657080398377192,
          2.057162289140138,
          2.0476307087731027,
          2.0371410414694453,
          2.0257258597456085,
          2.013423299246644,
          2.0002779707584692,
          1.986342093724351,
          1.9716769040105357,
          1.956354399479706,
          1.9404594973177076,
          1.9240926840348713,
          1.9073732366279024,
          1.8904430703044985,
          1.8734712046741218,
          1.8566587040242253,
          1.8402436903492965,
          1.8245055911011034,
          1.8097671223725074,
          1.7963916620413165,
          1.7847728951398898,
          1.7753135543580516,
          1.7683917364211017,
          1.764317439252517
         ],
         "yaxis": "y"
        }
       ],
       "layout": {
        "legend": {
         "title": {
          "text": "index"
         },
         "tracegroupgap": 0
        },
        "margin": {
         "t": 60
        },
        "template": {
         "data": {
          "bar": [
           {
            "error_x": {
             "color": "#2a3f5f"
            },
            "error_y": {
             "color": "#2a3f5f"
            },
            "marker": {
             "line": {
              "color": "#E5ECF6",
              "width": 0.5
             },
             "pattern": {
              "fillmode": "overlay",
              "size": 10,
              "solidity": 0.2
             }
            },
            "type": "bar"
           }
          ],
          "barpolar": [
           {
            "marker": {
             "line": {
              "color": "#E5ECF6",
              "width": 0.5
             },
             "pattern": {
              "fillmode": "overlay",
              "size": 10,
              "solidity": 0.2
             }
            },
            "type": "barpolar"
           }
          ],
          "carpet": [
           {
            "aaxis": {
             "endlinecolor": "#2a3f5f",
             "gridcolor": "white",
             "linecolor": "white",
             "minorgridcolor": "white",
             "startlinecolor": "#2a3f5f"
            },
            "baxis": {
             "endlinecolor": "#2a3f5f",
             "gridcolor": "white",
             "linecolor": "white",
             "minorgridcolor": "white",
             "startlinecolor": "#2a3f5f"
            },
            "type": "carpet"
           }
          ],
          "choropleth": [
           {
            "colorbar": {
             "outlinewidth": 0,
             "ticks": ""
            },
            "type": "choropleth"
           }
          ],
          "contour": [
           {
            "colorbar": {
             "outlinewidth": 0,
             "ticks": ""
            },
            "colorscale": [
             [
              0,
              "#0d0887"
             ],
             [
              0.1111111111111111,
              "#46039f"
             ],
             [
              0.2222222222222222,
              "#7201a8"
             ],
             [
              0.3333333333333333,
              "#9c179e"
             ],
             [
              0.4444444444444444,
              "#bd3786"
             ],
             [
              0.5555555555555556,
              "#d8576b"
             ],
             [
              0.6666666666666666,
              "#ed7953"
             ],
             [
              0.7777777777777778,
              "#fb9f3a"
             ],
             [
              0.8888888888888888,
              "#fdca26"
             ],
             [
              1,
              "#f0f921"
             ]
            ],
            "type": "contour"
           }
          ],
          "contourcarpet": [
           {
            "colorbar": {
             "outlinewidth": 0,
             "ticks": ""
            },
            "type": "contourcarpet"
           }
          ],
          "heatmap": [
           {
            "colorbar": {
             "outlinewidth": 0,
             "ticks": ""
            },
            "colorscale": [
             [
              0,
              "#0d0887"
             ],
             [
              0.1111111111111111,
              "#46039f"
             ],
             [
              0.2222222222222222,
              "#7201a8"
             ],
             [
              0.3333333333333333,
              "#9c179e"
             ],
             [
              0.4444444444444444,
              "#bd3786"
             ],
             [
              0.5555555555555556,
              "#d8576b"
             ],
             [
              0.6666666666666666,
              "#ed7953"
             ],
             [
              0.7777777777777778,
              "#fb9f3a"
             ],
             [
              0.8888888888888888,
              "#fdca26"
             ],
             [
              1,
              "#f0f921"
             ]
            ],
            "type": "heatmap"
           }
          ],
          "heatmapgl": [
           {
            "colorbar": {
             "outlinewidth": 0,
             "ticks": ""
            },
            "colorscale": [
             [
              0,
              "#0d0887"
             ],
             [
              0.1111111111111111,
              "#46039f"
             ],
             [
              0.2222222222222222,
              "#7201a8"
             ],
             [
              0.3333333333333333,
              "#9c179e"
             ],
             [
              0.4444444444444444,
              "#bd3786"
             ],
             [
              0.5555555555555556,
              "#d8576b"
             ],
             [
              0.6666666666666666,
              "#ed7953"
             ],
             [
              0.7777777777777778,
              "#fb9f3a"
             ],
             [
              0.8888888888888888,
              "#fdca26"
             ],
             [
              1,
              "#f0f921"
             ]
            ],
            "type": "heatmapgl"
           }
          ],
          "histogram": [
           {
            "marker": {
             "pattern": {
              "fillmode": "overlay",
              "size": 10,
              "solidity": 0.2
             }
            },
            "type": "histogram"
           }
          ],
          "histogram2d": [
           {
            "colorbar": {
             "outlinewidth": 0,
             "ticks": ""
            },
            "colorscale": [
             [
              0,
              "#0d0887"
             ],
             [
              0.1111111111111111,
              "#46039f"
             ],
             [
              0.2222222222222222,
              "#7201a8"
             ],
             [
              0.3333333333333333,
              "#9c179e"
             ],
             [
              0.4444444444444444,
              "#bd3786"
             ],
             [
              0.5555555555555556,
              "#d8576b"
             ],
             [
              0.6666666666666666,
              "#ed7953"
             ],
             [
              0.7777777777777778,
              "#fb9f3a"
             ],
             [
              0.8888888888888888,
              "#fdca26"
             ],
             [
              1,
              "#f0f921"
             ]
            ],
            "type": "histogram2d"
           }
          ],
          "histogram2dcontour": [
           {
            "colorbar": {
             "outlinewidth": 0,
             "ticks": ""
            },
            "colorscale": [
             [
              0,
              "#0d0887"
             ],
             [
              0.1111111111111111,
              "#46039f"
             ],
             [
              0.2222222222222222,
              "#7201a8"
             ],
             [
              0.3333333333333333,
              "#9c179e"
             ],
             [
              0.4444444444444444,
              "#bd3786"
             ],
             [
              0.5555555555555556,
              "#d8576b"
             ],
             [
              0.6666666666666666,
              "#ed7953"
             ],
             [
              0.7777777777777778,
              "#fb9f3a"
             ],
             [
              0.8888888888888888,
              "#fdca26"
             ],
             [
              1,
              "#f0f921"
             ]
            ],
            "type": "histogram2dcontour"
           }
          ],
          "mesh3d": [
           {
            "colorbar": {
             "outlinewidth": 0,
             "ticks": ""
            },
            "type": "mesh3d"
           }
          ],
          "parcoords": [
           {
            "line": {
             "colorbar": {
              "outlinewidth": 0,
              "ticks": ""
             }
            },
            "type": "parcoords"
           }
          ],
          "pie": [
           {
            "automargin": true,
            "type": "pie"
           }
          ],
          "scatter": [
           {
            "marker": {
             "colorbar": {
              "outlinewidth": 0,
              "ticks": ""
             }
            },
            "type": "scatter"
           }
          ],
          "scatter3d": [
           {
            "line": {
             "colorbar": {
              "outlinewidth": 0,
              "ticks": ""
             }
            },
            "marker": {
             "colorbar": {
              "outlinewidth": 0,
              "ticks": ""
             }
            },
            "type": "scatter3d"
           }
          ],
          "scattercarpet": [
           {
            "marker": {
             "colorbar": {
              "outlinewidth": 0,
              "ticks": ""
             }
            },
            "type": "scattercarpet"
           }
          ],
          "scattergeo": [
           {
            "marker": {
             "colorbar": {
              "outlinewidth": 0,
              "ticks": ""
             }
            },
            "type": "scattergeo"
           }
          ],
          "scattergl": [
           {
            "marker": {
             "colorbar": {
              "outlinewidth": 0,
              "ticks": ""
             }
            },
            "type": "scattergl"
           }
          ],
          "scattermapbox": [
           {
            "marker": {
             "colorbar": {
              "outlinewidth": 0,
              "ticks": ""
             }
            },
            "type": "scattermapbox"
           }
          ],
          "scatterpolar": [
           {
            "marker": {
             "colorbar": {
              "outlinewidth": 0,
              "ticks": ""
             }
            },
            "type": "scatterpolar"
           }
          ],
          "scatterpolargl": [
           {
            "marker": {
             "colorbar": {
              "outlinewidth": 0,
              "ticks": ""
             }
            },
            "type": "scatterpolargl"
           }
          ],
          "scatterternary": [
           {
            "marker": {
             "colorbar": {
              "outlinewidth": 0,
              "ticks": ""
             }
            },
            "type": "scatterternary"
           }
          ],
          "surface": [
           {
            "colorbar": {
             "outlinewidth": 0,
             "ticks": ""
            },
            "colorscale": [
             [
              0,
              "#0d0887"
             ],
             [
              0.1111111111111111,
              "#46039f"
             ],
             [
              0.2222222222222222,
              "#7201a8"
             ],
             [
              0.3333333333333333,
              "#9c179e"
             ],
             [
              0.4444444444444444,
              "#bd3786"
             ],
             [
              0.5555555555555556,
              "#d8576b"
             ],
             [
              0.6666666666666666,
              "#ed7953"
             ],
             [
              0.7777777777777778,
              "#fb9f3a"
             ],
             [
              0.8888888888888888,
              "#fdca26"
             ],
             [
              1,
              "#f0f921"
             ]
            ],
            "type": "surface"
           }
          ],
          "table": [
           {
            "cells": {
             "fill": {
              "color": "#EBF0F8"
             },
             "line": {
              "color": "white"
             }
            },
            "header": {
             "fill": {
              "color": "#C8D4E3"
             },
             "line": {
              "color": "white"
             }
            },
            "type": "table"
           }
          ]
         },
         "layout": {
          "annotationdefaults": {
           "arrowcolor": "#2a3f5f",
           "arrowhead": 0,
           "arrowwidth": 1
          },
          "autotypenumbers": "strict",
          "coloraxis": {
           "colorbar": {
            "outlinewidth": 0,
            "ticks": ""
           }
          },
          "colorscale": {
           "diverging": [
            [
             0,
             "#8e0152"
            ],
            [
             0.1,
             "#c51b7d"
            ],
            [
             0.2,
             "#de77ae"
            ],
            [
             0.3,
             "#f1b6da"
            ],
            [
             0.4,
             "#fde0ef"
            ],
            [
             0.5,
             "#f7f7f7"
            ],
            [
             0.6,
             "#e6f5d0"
            ],
            [
             0.7,
             "#b8e186"
            ],
            [
             0.8,
             "#7fbc41"
            ],
            [
             0.9,
             "#4d9221"
            ],
            [
             1,
             "#276419"
            ]
           ],
           "sequential": [
            [
             0,
             "#0d0887"
            ],
            [
             0.1111111111111111,
             "#46039f"
            ],
            [
             0.2222222222222222,
             "#7201a8"
            ],
            [
             0.3333333333333333,
             "#9c179e"
            ],
            [
             0.4444444444444444,
             "#bd3786"
            ],
            [
             0.5555555555555556,
             "#d8576b"
            ],
            [
             0.6666666666666666,
             "#ed7953"
            ],
            [
             0.7777777777777778,
             "#fb9f3a"
            ],
            [
             0.8888888888888888,
             "#fdca26"
            ],
            [
             1,
             "#f0f921"
            ]
           ],
           "sequentialminus": [
            [
             0,
             "#0d0887"
            ],
            [
             0.1111111111111111,
             "#46039f"
            ],
            [
             0.2222222222222222,
             "#7201a8"
            ],
            [
             0.3333333333333333,
             "#9c179e"
            ],
            [
             0.4444444444444444,
             "#bd3786"
            ],
            [
             0.5555555555555556,
             "#d8576b"
            ],
            [
             0.6666666666666666,
             "#ed7953"
            ],
            [
             0.7777777777777778,
             "#fb9f3a"
            ],
            [
             0.8888888888888888,
             "#fdca26"
            ],
            [
             1,
             "#f0f921"
            ]
           ]
          },
          "colorway": [
           "#636efa",
           "#EF553B",
           "#00cc96",
           "#ab63fa",
           "#FFA15A",
           "#19d3f3",
           "#FF6692",
           "#B6E880",
           "#FF97FF",
           "#FECB52"
          ],
          "font": {
           "color": "#2a3f5f"
          },
          "geo": {
           "bgcolor": "white",
           "lakecolor": "white",
           "landcolor": "#E5ECF6",
           "showlakes": true,
           "showland": true,
           "subunitcolor": "white"
          },
          "hoverlabel": {
           "align": "left"
          },
          "hovermode": "closest",
          "mapbox": {
           "style": "light"
          },
          "paper_bgcolor": "white",
          "plot_bgcolor": "#E5ECF6",
          "polar": {
           "angularaxis": {
            "gridcolor": "white",
            "linecolor": "white",
            "ticks": ""
           },
           "bgcolor": "#E5ECF6",
           "radialaxis": {
            "gridcolor": "white",
            "linecolor": "white",
            "ticks": ""
           }
          },
          "scene": {
           "xaxis": {
            "backgroundcolor": "#E5ECF6",
            "gridcolor": "white",
            "gridwidth": 2,
            "linecolor": "white",
            "showbackground": true,
            "ticks": "",
            "zerolinecolor": "white"
           },
           "yaxis": {
            "backgroundcolor": "#E5ECF6",
            "gridcolor": "white",
            "gridwidth": 2,
            "linecolor": "white",
            "showbackground": true,
            "ticks": "",
            "zerolinecolor": "white"
           },
           "zaxis": {
            "backgroundcolor": "#E5ECF6",
            "gridcolor": "white",
            "gridwidth": 2,
            "linecolor": "white",
            "showbackground": true,
            "ticks": "",
            "zerolinecolor": "white"
           }
          },
          "shapedefaults": {
           "line": {
            "color": "#2a3f5f"
           }
          },
          "ternary": {
           "aaxis": {
            "gridcolor": "white",
            "linecolor": "white",
            "ticks": ""
           },
           "baxis": {
            "gridcolor": "white",
            "linecolor": "white",
            "ticks": ""
           },
           "bgcolor": "#E5ECF6",
           "caxis": {
            "gridcolor": "white",
            "linecolor": "white",
            "ticks": ""
           }
          },
          "title": {
           "x": 0.05
          },
          "xaxis": {
           "automargin": true,
           "gridcolor": "white",
           "linecolor": "white",
           "ticks": "",
           "title": {
            "standoff": 15
           },
           "zerolinecolor": "white",
           "zerolinewidth": 2
          },
          "yaxis": {
           "automargin": true,
           "gridcolor": "white",
           "linecolor": "white",
           "ticks": "",
           "title": {
            "standoff": 15
           },
           "zerolinecolor": "white",
           "zerolinewidth": 2
          }
         }
        },
        "xaxis": {
         "anchor": "y",
         "domain": [
          0,
          1
         ],
         "title": {
          "text": "q"
         }
        },
        "yaxis": {
         "anchor": "x",
         "domain": [
          0,
          1
         ],
         "title": {
          "text": "w"
         }
        }
       }
      }
     },
     "metadata": {},
     "output_type": "display_data"
    }
   ],
   "source": [
    "import plotly.express as px\n",
    "\n",
    "fig = px.line(df, x=\"q\", y=\"w\", color='index')\n",
    "fig.show()"
   ]
  }
 ],
 "metadata": {
  "interpreter": {
   "hash": "95ecf25b43340a02237b3cbf7555085895d905a8a1b2e042fc0ac5ef027a981c"
  },
  "kernelspec": {
   "display_name": "Julia 1.6.2",
   "language": "python",
   "name": "python3"
  },
  "language_info": {
   "codemirror_mode": {
    "name": "ipython",
    "version": 3
   },
   "file_extension": ".py",
   "mimetype": "text/x-python",
   "name": "python",
   "nbconvert_exporter": "python",
   "pygments_lexer": "ipython3",
   "version": "3.8.8"
  }
 },
 "nbformat": 4,
 "nbformat_minor": 4
}
