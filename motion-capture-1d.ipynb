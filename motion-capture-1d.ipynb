{
 "cells": [
  {
   "cell_type": "code",
   "execution_count": 1,
   "metadata": {},
   "outputs": [
    {
     "data": {
      "text/plain": [
       "<bound method NDFrame.head of       Sample       Time   X   Y   Z  X.1  Y.1  Z.1  X.2  Y.2  ...   X.312  \\\n",
       "0          0   0.000000 NaN NaN NaN  NaN  NaN  NaN  NaN  NaN  ...     NaN   \n",
       "1          1   0.004167 NaN NaN NaN  NaN  NaN  NaN  NaN  NaN  ...     NaN   \n",
       "2          2   0.008333 NaN NaN NaN  NaN  NaN  NaN  NaN  NaN  ...     NaN   \n",
       "3          3   0.012500 NaN NaN NaN  NaN  NaN  NaN  NaN  NaN  ...     NaN   \n",
       "4          4   0.016667 NaN NaN NaN  NaN  NaN  NaN  NaN  NaN  ...     NaN   \n",
       "...      ...        ...  ..  ..  ..  ...  ...  ...  ...  ...  ...     ...   \n",
       "3569    3569  14.870834 NaN NaN NaN  NaN  NaN  NaN  NaN  NaN  ... -87.297   \n",
       "3570    3570  14.875001 NaN NaN NaN  NaN  NaN  NaN  NaN  NaN  ... -87.260   \n",
       "3571    3571  14.879168 NaN NaN NaN  NaN  NaN  NaN  NaN  NaN  ... -87.297   \n",
       "3572    3572  14.883334 NaN NaN NaN  NaN  NaN  NaN  NaN  NaN  ... -87.297   \n",
       "3573    3573  14.887501 NaN NaN NaN  NaN  NaN  NaN  NaN  NaN  ... -87.318   \n",
       "\n",
       "        Y.312    Z.312    X.313    Y.313    Z.313    X.314     Y.314  \\\n",
       "0         NaN      NaN      NaN      NaN      NaN      NaN       NaN   \n",
       "1         NaN      NaN      NaN      NaN      NaN      NaN       NaN   \n",
       "2         NaN      NaN      NaN      NaN      NaN      NaN       NaN   \n",
       "3         NaN      NaN      NaN      NaN      NaN      NaN       NaN   \n",
       "4         NaN      NaN      NaN      NaN      NaN      NaN       NaN   \n",
       "...       ...      ...      ...      ...      ...      ...       ...   \n",
       "3569  205.077  330.140 -340.604  356.798  509.590 -339.537  343.7689   \n",
       "3570  205.267  331.197 -340.509  357.841  509.994 -339.537  344.6930   \n",
       "3571  205.376  332.240 -340.509  358.806  510.369 -339.651  345.6200   \n",
       "3572  205.543  333.307 -340.457  359.849  510.755 -339.653  346.6520   \n",
       "3573  205.715  334.309 -340.457  360.851  511.222 -339.955  347.5440   \n",
       "\n",
       "         Z.314  Unnamed: 947  \n",
       "0          NaN           NaN  \n",
       "1          NaN           NaN  \n",
       "2          NaN           NaN  \n",
       "3          NaN           NaN  \n",
       "4          NaN           NaN  \n",
       "...        ...           ...  \n",
       "3569  508.1199           NaN  \n",
       "3570  508.4390           NaN  \n",
       "3571  508.7420           NaN  \n",
       "3572  509.0450           NaN  \n",
       "3573  509.4310           NaN  \n",
       "\n",
       "[3574 rows x 948 columns]>"
      ]
     },
     "execution_count": 1,
     "metadata": {},
     "output_type": "execute_result"
    }
   ],
   "source": [
    "import pandas as pd\n",
    "\n",
    "\n",
    "df = pd.read_csv(\"data2.csv\")\n",
    "df.head"
   ]
  },
  {
   "cell_type": "code",
   "execution_count": 8,
   "metadata": {},
   "outputs": [
    {
     "name": "stdout",
     "output_type": "stream",
     "text": [
      "(3574, 948)\n"
     ]
    }
   ],
   "source": [
    "from operator import attrgetter\n",
    "from collections import namedtuple\n",
    "import numpy as np\n",
    "\n",
    "point = namedtuple('point', 'x y z')\n",
    "\n",
    "print(df.shape)\n",
    "pss = []\n",
    "for i, r in df.iterrows():\n",
    "    t = r[1]\n",
    "    r = r[2:]\n",
    "    ps = []\n",
    "    for j in range(0, len(r[2:]), 3):\n",
    "        x, y, z = r[j:j+3]\n",
    "        if np.isnan(x) or np.isnan(y) or np.isnan(z):\n",
    "            continue\n",
    "        p = point(x, y, z)\n",
    "        ps.append(p)\n",
    "    ps = sorted(ps, key=attrgetter('x'), reverse=True)\n",
    "    pss.append(ps)"
   ]
  },
  {
   "cell_type": "code",
   "execution_count": 7,
   "metadata": {},
   "outputs": [
    {
     "name": "stdout",
     "output_type": "stream",
     "text": [
      "3574\n"
     ]
    },
    {
     "ename": "TypeError",
     "evalue": "'list_reverseiterator' object is not subscriptable",
     "output_type": "error",
     "traceback": [
      "\u001b[1;31m---------------------------------------------------------------------------\u001b[0m",
      "\u001b[1;31mTypeError\u001b[0m                                 Traceback (most recent call last)",
      "\u001b[1;32m~\\AppData\\Local\\Temp/ipykernel_14796/2448785072.py\u001b[0m in \u001b[0;36m<module>\u001b[1;34m\u001b[0m\n\u001b[0;32m      5\u001b[0m \u001b[1;33m\u001b[0m\u001b[0m\n\u001b[0;32m      6\u001b[0m fig = go.Figure(data=[go.Scatter3d(\n\u001b[1;32m----> 7\u001b[1;33m     \u001b[0mx\u001b[0m\u001b[1;33m=\u001b[0m\u001b[1;33m[\u001b[0m\u001b[0mp\u001b[0m\u001b[1;33m.\u001b[0m\u001b[0mx\u001b[0m \u001b[1;32mfor\u001b[0m \u001b[0mp\u001b[0m \u001b[1;32min\u001b[0m \u001b[0mpss\u001b[0m\u001b[1;33m[\u001b[0m\u001b[1;36m1000\u001b[0m\u001b[1;33m]\u001b[0m\u001b[1;33m[\u001b[0m\u001b[1;33m:\u001b[0m\u001b[1;36m2\u001b[0m\u001b[1;33m]\u001b[0m\u001b[1;33m]\u001b[0m\u001b[1;33m,\u001b[0m\u001b[1;33m\u001b[0m\u001b[1;33m\u001b[0m\u001b[0m\n\u001b[0m\u001b[0;32m      8\u001b[0m     \u001b[0my\u001b[0m\u001b[1;33m=\u001b[0m\u001b[1;33m[\u001b[0m\u001b[0mp\u001b[0m\u001b[1;33m.\u001b[0m\u001b[0my\u001b[0m \u001b[1;32mfor\u001b[0m \u001b[0mp\u001b[0m \u001b[1;32min\u001b[0m \u001b[0mpss\u001b[0m\u001b[1;33m[\u001b[0m\u001b[1;36m1000\u001b[0m\u001b[1;33m]\u001b[0m\u001b[1;33m[\u001b[0m\u001b[1;33m:\u001b[0m\u001b[1;36m2\u001b[0m\u001b[1;33m]\u001b[0m\u001b[1;33m]\u001b[0m\u001b[1;33m,\u001b[0m\u001b[1;33m\u001b[0m\u001b[1;33m\u001b[0m\u001b[0m\n\u001b[0;32m      9\u001b[0m     \u001b[0mz\u001b[0m\u001b[1;33m=\u001b[0m\u001b[1;33m[\u001b[0m\u001b[0mp\u001b[0m\u001b[1;33m.\u001b[0m\u001b[0mz\u001b[0m \u001b[1;32mfor\u001b[0m \u001b[0mp\u001b[0m \u001b[1;32min\u001b[0m \u001b[0mpss\u001b[0m\u001b[1;33m[\u001b[0m\u001b[1;36m1000\u001b[0m\u001b[1;33m]\u001b[0m\u001b[1;33m[\u001b[0m\u001b[1;33m:\u001b[0m\u001b[1;36m2\u001b[0m\u001b[1;33m]\u001b[0m\u001b[1;33m]\u001b[0m\u001b[1;33m,\u001b[0m\u001b[1;33m\u001b[0m\u001b[1;33m\u001b[0m\u001b[0m\n",
      "\u001b[1;31mTypeError\u001b[0m: 'list_reverseiterator' object is not subscriptable"
     ]
    }
   ],
   "source": [
    "import plotly.graph_objects as go\n",
    "import numpy as np\n",
    "\n",
    "print(len(pss))\n",
    "\n",
    "fig = go.Figure(data=[go.Scatter3d(\n",
    "    x=[p.x for p in pss[1000][:2]],\n",
    "    y=[p.y for p in pss[1000][:2]],\n",
    "    z=[p.z for p in pss[1000][:2]],\n",
    "    mode='markers',\n",
    "    marker=dict(\n",
    "        size=5,\n",
    "        color=z,                # set color to an array/list of desired values\n",
    "        colorscale='Viridis',   # choose a colorscale\n",
    "        opacity=0.8\n",
    "    )\n",
    ")])\n",
    "\n",
    "# tight layout\n",
    "fig.update_layout(margin=dict(l=0, r=0, b=0, t=0))\n",
    "fig.show()"
   ]
  },
  {
   "cell_type": "code",
   "execution_count": null,
   "metadata": {},
   "outputs": [],
   "source": []
  }
 ],
 "metadata": {
  "interpreter": {
   "hash": "b0fa6594d8f4cbf19f97940f81e996739fb7646882a419484c72d19e05852a7e"
  },
  "kernelspec": {
   "display_name": "Python 3.9.6 64-bit",
   "language": "python",
   "name": "python3"
  },
  "language_info": {
   "codemirror_mode": {
    "name": "ipython",
    "version": 3
   },
   "file_extension": ".py",
   "mimetype": "text/x-python",
   "name": "python",
   "nbconvert_exporter": "python",
   "pygments_lexer": "ipython3",
   "version": "3.8.12"
  },
  "orig_nbformat": 4
 },
 "nbformat": 4,
 "nbformat_minor": 2
}
