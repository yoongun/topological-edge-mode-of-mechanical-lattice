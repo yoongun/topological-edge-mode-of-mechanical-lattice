{
 "cells": [
  {
   "cell_type": "code",
   "execution_count": 1,
   "id": "8bf8873b",
   "metadata": {},
   "outputs": [
    {
     "name": "stdout",
     "output_type": "stream",
     "text": [
      "[0 1]\n",
      "[0 1]\n",
      "[0 1]\n",
      "[0 1]\n",
      "[0 1]\n",
      "[0 1]\n",
      "[0 1]\n",
      "[0 1]\n",
      "[0 1]\n",
      "[0 1]\n",
      "[0 1]\n",
      "[0 1]\n",
      "[0 1]\n",
      "[0 1]\n",
      "[0 1]\n",
      "[0 1]\n",
      "[0 1]\n",
      "[0 1]\n",
      "[0 1]\n",
      "[0 1]\n",
      "[0 1]\n",
      "[0 1]\n",
      "[0 1]\n",
      "[0 1]\n",
      "[0 1]\n",
      "[0 1]\n",
      "[0 1]\n",
      "[0 1]\n",
      "[0 1]\n",
      "[0 1]\n",
      "[0 1]\n",
      "[0 1]\n",
      "[0 1]\n"
     ]
    },
    {
     "data": {
      "application/vnd.jupyter.widget-view+json": {
       "model_id": "d240e0663dd5474281e7851b68c032a8",
       "version_major": 2,
       "version_minor": 0
      },
      "text/plain": [
       "FigureWidget({\n",
       "    'data': [{'marker': {'cmax': 1,\n",
       "                         'cmin': 0,\n",
       "                       …"
      ]
     },
     "metadata": {},
     "output_type": "display_data"
    }
   ],
   "source": [
    "# 周期境界、Plotly版、sliderを使ってmodeをアニメーション\n",
    "import plotly.graph_objects as go\n",
    "from plotly.subplots import make_subplots\n",
    "import numpy as np\n",
    "\n",
    "## パラメータ設定 ##　格子定数は1に設定\n",
    "m0 = 1            # 基準の質量\n",
    "k0 = 1            # 基準のバネ定数\n",
    "m_num = 2       # 単位格子内の質点の数\n",
    "k_num = 33        # 波数を変化させる数\n",
    "\n",
    "k_array = np.linspace(-1, 1, k_num)*np.pi  # 波数の配列\n",
    "omega_square = np.zeros((k_num, m_num))   # 周波数の２乗の配列を準備\n",
    "eigen_values = np.zeros((k_num, m_num), dtype = np.complex128)    # 固有値の配列を準備、複素数\n",
    "eigen_vectors = np.zeros((k_num, m_num, m_num), dtype = np.complex128)   # 固有ベクトルの配列を準備、複素数\n",
    "\n",
    "delta_m = 1/3  # 単位格子内の質量\n",
    "delta_k = 0    # 単位格子内のバネ定数\n",
    "m1 = 1/(1 - delta_m)  # 質量1\n",
    "m2 = 1/(1 + delta_m)  # 質量2\n",
    "k1 = 1 + delta_k  # バネ1\n",
    "k2 = 1 - delta_k  # バネ2\n",
    "m_list = [m1,m2]  # 質量を並べたリスト\n",
    "k_list = [k1,k2]  # バネ定数を並べたリスト、要素数は質量リストよりもひとつ多い\n",
    "N = len(m_list)  # 質量の配列から行列サイズNを求める\n",
    "\n",
    "## 質量の対角行列Mを定義 ##\n",
    "M = np.zeros((N, N), dtype = np.complex128)\n",
    "M[0,0] = m1\n",
    "M[1,1] = m2\n",
    "\n",
    "j = 0\n",
    "for k in k_array:\n",
    "    ## バネ定数の行列Kを定義 ##\n",
    "    K = np.zeros((N, N), dtype = np.complex128)\n",
    "    K[0,0] = k1 + k2\n",
    "    K[1,1] = k1 + k2\n",
    "    K[0,1] = -k1 -k2*np.exp(-1j*k)\n",
    "    K[1,0] = -k1 -k2*np.exp(1j*k)\n",
    "    \n",
    "    ## 固有値方程式を解く ##\n",
    "    M_inv = np.linalg.inv(M)  # Mの逆行列\n",
    "    eigen_value, eigen_vector = np.linalg.eig(np.dot(M_inv, K))  # 固有値方程式を解く\n",
    "    eigen_id = np.argsort(eigen_value)  # 固有値が小さい順にソートしたindexを取得\n",
    "    print(eigen_id)\n",
    "    eigen_values[j,:] = eigen_value[eigen_id]  # ソートした固有値、角周波数の２乗に対応\n",
    "    eigen_vectors[j,:] = eigen_vector.T[eigen_id]   # ソートした固有ベクトル、複素数表示した変位に対応\n",
    "    omega_square = eigen_values.real\n",
    "    j += 1\n",
    "\n",
    "\n",
    "### Plotlyによる可視化 ###\n",
    "## 散布図プロット用の配列の準備 ##\n",
    "x_scatter_array = np.ravel(k_array.reshape(k_num,1) * np.ones((k_num, m_num)))\n",
    "omega_square_array = np.ravel(omega_square)\n",
    "\n",
    "## mode表示用のトレースの指定 ##\n",
    "scatter_trace = go.Scatter(x=x_scatter_array,\n",
    "                           y=np.sqrt(omega_square_array),\n",
    "                           mode=\"markers\",\n",
    "                           marker={\"size\": 10, \"colorscale\": \"Bluered\", \"cmin\": 0, \"cmax\": 1,},\n",
    "                           name=\"mode\",\n",
    "                          )\n",
    "\n",
    "frame_num = 15    # アニメーションのフレーム数\n",
    "shape_period = 10  #単位格子何個分を表示するか\n",
    "\n",
    "## グラフ表示\n",
    "fig = go.FigureWidget(make_subplots(rows=2, cols=1, row_heights=[0.7,0.3],))\n",
    "fig.update_layout(width=800, height=800, title=\"two atoms in an unit cell, $M_1>M_2, K_1=K_2$\")\n",
    "fig.add_trace(scatter_trace, row=1, col=1,)\n",
    "fig.update_xaxes(title=\"wave number\", row=1, col=1,)\n",
    "fig.update_yaxes(title=\"angular frequency\", row=1, col=1,)\n",
    "fig.update_xaxes(tickvals=[-np.pi, -np.pi/2, 0, np.pi/2, np.pi], ticktext=[r\"$-\\pi$\",r\"$-\\pi/2a$\",r\"$0$\",r\"$\\pi/2a$\",r\"$\\pi/a$\"], row=1, col=1)\n",
    "fig.update_xaxes(range=[0, 2*shape_period], visible=False, row=2, col=1,)\n",
    "fig.update_yaxes(range=[-1.2,1.2], tickvals=[], ticktext=[], row=2, col=1)\n",
    "\n",
    "fig.data[0].marker.color = [0]*(k_num*m_num)\n",
    "fig.data[0].marker.size  = [10]*(k_num*m_num)\n",
    "fig.data[0].marker.line.width = 0\n",
    "\n",
    "for t in range(frame_num):    # 変位分布の初期プロットをフレーム数分準備\n",
    "    fig.add_trace(go.Scatter(visible=False,\n",
    "                             x=np.arange(m_num*shape_period+1),\n",
    "                             y=np.zeros(m_num*shape_period+2),\n",
    "                             mode = \"lines+markers\",\n",
    "                             marker = {\"size\":20,\"color\":\"gray\"},\n",
    "                             line={\"width\":5},\n",
    "                             name=\"displacement\",),\n",
    "                  row=2, col=1)\n",
    "fig.data[1].visible = True\n",
    "\n",
    "steps = []    # 各スライダーでどのグラフを表示させ、どれを非表示にするか\n",
    "for i in range(frame_num):\n",
    "    step = {\"method\":\"update\",\n",
    "            \"args\":[{\"visible\": [False]*(frame_num+1)},],  # 全てのグラフを一旦非表示\n",
    "            \"label\":\"\",}\n",
    "    step[\"args\"][0][\"visible\"][0] = True     # 上のグラフは常に表示\n",
    "    step[\"args\"][0][\"visible\"][i+1] = True   # i番目のグラフも表示、上のグラフも含めるためずれるので+1\n",
    "    steps += [step]\n",
    "\n",
    "sliders = [{\"pad\":{\"t\": 50},     # スライダーの設定\n",
    "            \"steps\":steps,\n",
    "            \"tickwidth\":0,\n",
    "            \"transition\":{\"duration\":0},\n",
    "           }]\n",
    "fig.update_layout(sliders=sliders)\n",
    "    \n",
    "def update_point(trace, points, selector): # modeをクリックした場合の関数\n",
    "    i = points.point_inds[0]\n",
    "    c = [0]*len(trace.x)\n",
    "    s = [10]*len(trace.x)\n",
    "    c[i] = 1\n",
    "    s[i] = 20\n",
    "    with fig.batch_update():\n",
    "        fig.data[0].marker.color = c\n",
    "        fig.data[0].marker.size = s\n",
    "    for t in range(0, frame_num):     # 各フレームの計算\n",
    "        fig.data[t+1].x = np.arange(m_num*shape_period+1)\n",
    "        y0 = eigen_vectors[i//m_num, i%m_num, :]\n",
    "        y_total = y0\n",
    "        for sp in range(shape_period+1):     # 波数がずれた隣の単位格子の軌跡を繋げていく\n",
    "            y_sp = y0*np.exp((sp+1)*1j*(trace.x)[i])\n",
    "            y_total = np.concatenate((y_total,y_sp))\n",
    "        fig.data[t+1].y = (y_total*np.exp(-2j*np.pi*t/(frame_num-1))).real\n",
    "    fig.data[1].visible = True\n",
    "    fig.update_layout({\"sliders\":{\"active\":0}})\n",
    "\n",
    "fig.data[0].on_click(update_point)\n",
    "\n",
    "display(fig)"
   ]
  },
  {
   "cell_type": "code",
   "execution_count": 3,
   "id": "7add02b6",
   "metadata": {},
   "outputs": [
    {
     "name": "stdout",
     "output_type": "stream",
     "text": [
      "[[ 0.70710678+0.00000000e+00j  0.70710678-8.65956056e-17j]\n",
      " [-0.70710678-8.65956056e-17j  0.70710678+0.00000000e+00j]]\n"
     ]
    },
    {
     "data": {
      "application/vnd.plotly.v1+json": {
       "config": {
        "plotlyServerURL": "https://plot.ly"
       },
       "data": [
        {
         "marker": {
          "cmax": 1,
          "cmin": 0,
          "color": [
           0,
           0,
           0,
           0,
           0,
           0,
           0,
           0,
           0,
           0,
           0,
           0,
           0,
           0,
           0,
           0,
           0,
           0,
           0,
           0,
           0,
           0,
           0,
           0,
           0,
           0,
           0,
           0,
           0,
           0,
           0,
           0,
           0,
           0,
           0,
           0,
           0,
           0,
           0,
           0,
           0,
           0,
           0,
           0,
           0,
           0,
           0,
           0,
           0,
           0,
           0,
           0,
           0,
           0,
           0,
           0,
           0,
           0,
           0,
           0,
           0,
           0,
           0,
           0,
           0,
           0
          ],
          "colorscale": [
           [
            0,
            "rgb(0,0,255)"
           ],
           [
            1,
            "rgb(255,0,0)"
           ]
          ],
          "line": {
           "width": 0
          },
          "size": [
           10,
           10,
           10,
           10,
           10,
           10,
           10,
           10,
           10,
           10,
           10,
           10,
           10,
           10,
           10,
           10,
           10,
           10,
           10,
           10,
           10,
           10,
           10,
           10,
           10,
           10,
           10,
           10,
           10,
           10,
           10,
           10,
           10,
           10,
           10,
           10,
           10,
           10,
           10,
           10,
           10,
           10,
           10,
           10,
           10,
           10,
           10,
           10,
           10,
           10,
           10,
           10,
           10,
           10,
           10,
           10,
           10,
           10,
           10,
           10,
           10,
           10,
           10,
           10,
           10,
           10
          ]
         },
         "mode": "markers",
         "name": "mode",
         "type": "scatter",
         "uid": "13af92f3-bd7b-41be-b808-ffba50c7228e",
         "x": [
          -3.141592653589793,
          -3.141592653589793,
          -2.945243112740431,
          -2.945243112740431,
          -2.748893571891069,
          -2.748893571891069,
          -2.552544031041707,
          -2.552544031041707,
          -2.356194490192345,
          -2.356194490192345,
          -2.1598449493429825,
          -2.1598449493429825,
          -1.9634954084936207,
          -1.9634954084936207,
          -1.7671458676442586,
          -1.7671458676442586,
          -1.5707963267948966,
          -1.5707963267948966,
          -1.3744467859455345,
          -1.3744467859455345,
          -1.1780972450961724,
          -1.1780972450961724,
          -0.9817477042468103,
          -0.9817477042468103,
          -0.7853981633974483,
          -0.7853981633974483,
          -0.5890486225480862,
          -0.5890486225480862,
          -0.39269908169872414,
          -0.39269908169872414,
          -0.19634954084936207,
          -0.19634954084936207,
          0,
          0,
          0.19634954084936207,
          0.19634954084936207,
          0.39269908169872414,
          0.39269908169872414,
          0.5890486225480862,
          0.5890486225480862,
          0.7853981633974483,
          0.7853981633974483,
          0.9817477042468103,
          0.9817477042468103,
          1.1780972450961724,
          1.1780972450961724,
          1.3744467859455345,
          1.3744467859455345,
          1.5707963267948966,
          1.5707963267948966,
          1.7671458676442586,
          1.7671458676442586,
          1.9634954084936207,
          1.9634954084936207,
          2.1598449493429825,
          2.1598449493429825,
          2.356194490192345,
          2.356194490192345,
          2.552544031041707,
          2.552544031041707,
          2.748893571891069,
          2.748893571891069,
          2.945243112740431,
          2.945243112740431,
          3.141592653589793,
          3.141592653589793
         ],
         "xaxis": "x",
         "y": [
          1.1547005383792517,
          1.6329931618554514,
          1.1437604320148123,
          1.6406742742413225,
          1.1129123463521717,
          1.6617539256270477,
          1.066496291129953,
          1.691917746524947,
          1.0087531055027288,
          1.726967623361423,
          0.9428152687150171,
          1.7638308788196873,
          0.8707863697824211,
          1.800480796398882,
          0.7940713988065226,
          1.8356063340480853,
          0.7136441795461799,
          1.8683447179254307,
          0.6302178497038308,
          1.8981110246544273,
          0.5443466854456829,
          1.9244964759760665,
          0.4564864565330889,
          1.9472082875239274,
          0.3670307417353362,
          1.9660336809478136,
          0.2763333334524468,
          1.9808179847787781,
          0.18472250401301027,
          1.9914511283260665,
          0.09251046434486057,
          1.9978593078559608,
          1.6994558310172262e-16,
          2,
          0.09251046434486057,
          1.9978593078559608,
          0.18472250401301027,
          1.9914511283260665,
          0.2763333334524468,
          1.9808179847787781,
          0.3670307417353362,
          1.9660336809478136,
          0.4564864565330889,
          1.9472082875239274,
          0.5443466854456829,
          1.9244964759760665,
          0.6302178497038308,
          1.8981110246544273,
          0.7136441795461799,
          1.8683447179254307,
          0.7940713988065226,
          1.8356063340480853,
          0.8707863697824211,
          1.800480796398882,
          0.9428152687150171,
          1.7638308788196873,
          1.0087531055027288,
          1.726967623361423,
          1.066496291129953,
          1.691917746524947,
          1.1129123463521717,
          1.6617539256270477,
          1.1437604320148123,
          1.6406742742413225,
          1.1547005383792517,
          1.6329931618554514
         ],
         "yaxis": "y"
        },
        {
         "line": {
          "width": 5
         },
         "marker": {
          "color": "gray",
          "size": 20
         },
         "mode": "lines+markers",
         "name": "displacement",
         "type": "scatter",
         "uid": "7b21f0a2-596e-469d-bfe7-dd46325bf002",
         "visible": true,
         "x": [
          0,
          1,
          2,
          3,
          4,
          5,
          6,
          7,
          8,
          9,
          10,
          11,
          12,
          13,
          14,
          15,
          16,
          17,
          18,
          19,
          20
         ],
         "xaxis": "x2",
         "y": [
          0,
          0,
          0,
          0,
          0,
          0,
          0,
          0,
          0,
          0,
          0,
          0,
          0,
          0,
          0,
          0,
          0,
          0,
          0,
          0,
          0,
          0
         ],
         "yaxis": "y2"
        },
        {
         "line": {
          "width": 5
         },
         "marker": {
          "color": "gray",
          "size": 20
         },
         "mode": "lines+markers",
         "name": "displacement",
         "type": "scatter",
         "uid": "2e5be88a-5c74-4c1f-9913-aef15d0444e1",
         "visible": false,
         "x": [
          0,
          1,
          2,
          3,
          4,
          5,
          6,
          7,
          8,
          9,
          10,
          11,
          12,
          13,
          14,
          15,
          16,
          17,
          18,
          19,
          20
         ],
         "xaxis": "x2",
         "y": [
          0,
          0,
          0,
          0,
          0,
          0,
          0,
          0,
          0,
          0,
          0,
          0,
          0,
          0,
          0,
          0,
          0,
          0,
          0,
          0,
          0,
          0
         ],
         "yaxis": "y2"
        },
        {
         "line": {
          "width": 5
         },
         "marker": {
          "color": "gray",
          "size": 20
         },
         "mode": "lines+markers",
         "name": "displacement",
         "type": "scatter",
         "uid": "51c0e45a-984e-4732-aadf-f0493947b312",
         "visible": false,
         "x": [
          0,
          1,
          2,
          3,
          4,
          5,
          6,
          7,
          8,
          9,
          10,
          11,
          12,
          13,
          14,
          15,
          16,
          17,
          18,
          19,
          20
         ],
         "xaxis": "x2",
         "y": [
          0,
          0,
          0,
          0,
          0,
          0,
          0,
          0,
          0,
          0,
          0,
          0,
          0,
          0,
          0,
          0,
          0,
          0,
          0,
          0,
          0,
          0
         ],
         "yaxis": "y2"
        },
        {
         "line": {
          "width": 5
         },
         "marker": {
          "color": "gray",
          "size": 20
         },
         "mode": "lines+markers",
         "name": "displacement",
         "type": "scatter",
         "uid": "27fc7ca5-347a-4ef3-b6fa-7151d7692fca",
         "visible": false,
         "x": [
          0,
          1,
          2,
          3,
          4,
          5,
          6,
          7,
          8,
          9,
          10,
          11,
          12,
          13,
          14,
          15,
          16,
          17,
          18,
          19,
          20
         ],
         "xaxis": "x2",
         "y": [
          0,
          0,
          0,
          0,
          0,
          0,
          0,
          0,
          0,
          0,
          0,
          0,
          0,
          0,
          0,
          0,
          0,
          0,
          0,
          0,
          0,
          0
         ],
         "yaxis": "y2"
        },
        {
         "line": {
          "width": 5
         },
         "marker": {
          "color": "gray",
          "size": 20
         },
         "mode": "lines+markers",
         "name": "displacement",
         "type": "scatter",
         "uid": "5b911436-3d92-464a-9d31-3f9f20c4d782",
         "visible": false,
         "x": [
          0,
          1,
          2,
          3,
          4,
          5,
          6,
          7,
          8,
          9,
          10,
          11,
          12,
          13,
          14,
          15,
          16,
          17,
          18,
          19,
          20
         ],
         "xaxis": "x2",
         "y": [
          0,
          0,
          0,
          0,
          0,
          0,
          0,
          0,
          0,
          0,
          0,
          0,
          0,
          0,
          0,
          0,
          0,
          0,
          0,
          0,
          0,
          0
         ],
         "yaxis": "y2"
        },
        {
         "line": {
          "width": 5
         },
         "marker": {
          "color": "gray",
          "size": 20
         },
         "mode": "lines+markers",
         "name": "displacement",
         "type": "scatter",
         "uid": "888269ff-900d-49a0-9443-6b3a337c081a",
         "visible": false,
         "x": [
          0,
          1,
          2,
          3,
          4,
          5,
          6,
          7,
          8,
          9,
          10,
          11,
          12,
          13,
          14,
          15,
          16,
          17,
          18,
          19,
          20
         ],
         "xaxis": "x2",
         "y": [
          0,
          0,
          0,
          0,
          0,
          0,
          0,
          0,
          0,
          0,
          0,
          0,
          0,
          0,
          0,
          0,
          0,
          0,
          0,
          0,
          0,
          0
         ],
         "yaxis": "y2"
        },
        {
         "line": {
          "width": 5
         },
         "marker": {
          "color": "gray",
          "size": 20
         },
         "mode": "lines+markers",
         "name": "displacement",
         "type": "scatter",
         "uid": "473b7587-db2e-4345-83e9-954ab6a920fa",
         "visible": false,
         "x": [
          0,
          1,
          2,
          3,
          4,
          5,
          6,
          7,
          8,
          9,
          10,
          11,
          12,
          13,
          14,
          15,
          16,
          17,
          18,
          19,
          20
         ],
         "xaxis": "x2",
         "y": [
          0,
          0,
          0,
          0,
          0,
          0,
          0,
          0,
          0,
          0,
          0,
          0,
          0,
          0,
          0,
          0,
          0,
          0,
          0,
          0,
          0,
          0
         ],
         "yaxis": "y2"
        },
        {
         "line": {
          "width": 5
         },
         "marker": {
          "color": "gray",
          "size": 20
         },
         "mode": "lines+markers",
         "name": "displacement",
         "type": "scatter",
         "uid": "fbfcdef9-0063-4b13-ace8-4c40988ed4eb",
         "visible": false,
         "x": [
          0,
          1,
          2,
          3,
          4,
          5,
          6,
          7,
          8,
          9,
          10,
          11,
          12,
          13,
          14,
          15,
          16,
          17,
          18,
          19,
          20
         ],
         "xaxis": "x2",
         "y": [
          0,
          0,
          0,
          0,
          0,
          0,
          0,
          0,
          0,
          0,
          0,
          0,
          0,
          0,
          0,
          0,
          0,
          0,
          0,
          0,
          0,
          0
         ],
         "yaxis": "y2"
        },
        {
         "line": {
          "width": 5
         },
         "marker": {
          "color": "gray",
          "size": 20
         },
         "mode": "lines+markers",
         "name": "displacement",
         "type": "scatter",
         "uid": "540a5249-858f-4ff0-8681-75252ccb3db6",
         "visible": false,
         "x": [
          0,
          1,
          2,
          3,
          4,
          5,
          6,
          7,
          8,
          9,
          10,
          11,
          12,
          13,
          14,
          15,
          16,
          17,
          18,
          19,
          20
         ],
         "xaxis": "x2",
         "y": [
          0,
          0,
          0,
          0,
          0,
          0,
          0,
          0,
          0,
          0,
          0,
          0,
          0,
          0,
          0,
          0,
          0,
          0,
          0,
          0,
          0,
          0
         ],
         "yaxis": "y2"
        },
        {
         "line": {
          "width": 5
         },
         "marker": {
          "color": "gray",
          "size": 20
         },
         "mode": "lines+markers",
         "name": "displacement",
         "type": "scatter",
         "uid": "b8364430-83f4-4a2f-a8e1-05e85ef5777e",
         "visible": false,
         "x": [
          0,
          1,
          2,
          3,
          4,
          5,
          6,
          7,
          8,
          9,
          10,
          11,
          12,
          13,
          14,
          15,
          16,
          17,
          18,
          19,
          20
         ],
         "xaxis": "x2",
         "y": [
          0,
          0,
          0,
          0,
          0,
          0,
          0,
          0,
          0,
          0,
          0,
          0,
          0,
          0,
          0,
          0,
          0,
          0,
          0,
          0,
          0,
          0
         ],
         "yaxis": "y2"
        },
        {
         "line": {
          "width": 5
         },
         "marker": {
          "color": "gray",
          "size": 20
         },
         "mode": "lines+markers",
         "name": "displacement",
         "type": "scatter",
         "uid": "e471feac-b379-4a6f-968d-a39048dc080a",
         "visible": false,
         "x": [
          0,
          1,
          2,
          3,
          4,
          5,
          6,
          7,
          8,
          9,
          10,
          11,
          12,
          13,
          14,
          15,
          16,
          17,
          18,
          19,
          20
         ],
         "xaxis": "x2",
         "y": [
          0,
          0,
          0,
          0,
          0,
          0,
          0,
          0,
          0,
          0,
          0,
          0,
          0,
          0,
          0,
          0,
          0,
          0,
          0,
          0,
          0,
          0
         ],
         "yaxis": "y2"
        },
        {
         "line": {
          "width": 5
         },
         "marker": {
          "color": "gray",
          "size": 20
         },
         "mode": "lines+markers",
         "name": "displacement",
         "type": "scatter",
         "uid": "1c94a1c4-2a86-405b-9b3a-184fd9cea766",
         "visible": false,
         "x": [
          0,
          1,
          2,
          3,
          4,
          5,
          6,
          7,
          8,
          9,
          10,
          11,
          12,
          13,
          14,
          15,
          16,
          17,
          18,
          19,
          20
         ],
         "xaxis": "x2",
         "y": [
          0,
          0,
          0,
          0,
          0,
          0,
          0,
          0,
          0,
          0,
          0,
          0,
          0,
          0,
          0,
          0,
          0,
          0,
          0,
          0,
          0,
          0
         ],
         "yaxis": "y2"
        },
        {
         "line": {
          "width": 5
         },
         "marker": {
          "color": "gray",
          "size": 20
         },
         "mode": "lines+markers",
         "name": "displacement",
         "type": "scatter",
         "uid": "972f1bb5-4fd1-4366-a4ed-c50e3053984b",
         "visible": false,
         "x": [
          0,
          1,
          2,
          3,
          4,
          5,
          6,
          7,
          8,
          9,
          10,
          11,
          12,
          13,
          14,
          15,
          16,
          17,
          18,
          19,
          20
         ],
         "xaxis": "x2",
         "y": [
          0,
          0,
          0,
          0,
          0,
          0,
          0,
          0,
          0,
          0,
          0,
          0,
          0,
          0,
          0,
          0,
          0,
          0,
          0,
          0,
          0,
          0
         ],
         "yaxis": "y2"
        },
        {
         "line": {
          "width": 5
         },
         "marker": {
          "color": "gray",
          "size": 20
         },
         "mode": "lines+markers",
         "name": "displacement",
         "type": "scatter",
         "uid": "241e6039-1611-443f-b640-29779aa72f3d",
         "visible": false,
         "x": [
          0,
          1,
          2,
          3,
          4,
          5,
          6,
          7,
          8,
          9,
          10,
          11,
          12,
          13,
          14,
          15,
          16,
          17,
          18,
          19,
          20
         ],
         "xaxis": "x2",
         "y": [
          0,
          0,
          0,
          0,
          0,
          0,
          0,
          0,
          0,
          0,
          0,
          0,
          0,
          0,
          0,
          0,
          0,
          0,
          0,
          0,
          0,
          0
         ],
         "yaxis": "y2"
        },
        {
         "line": {
          "width": 5
         },
         "marker": {
          "color": "gray",
          "size": 20
         },
         "mode": "lines+markers",
         "name": "displacement",
         "type": "scatter",
         "uid": "a90d7367-5485-429a-8222-94a919979cae",
         "visible": false,
         "x": [
          0,
          1,
          2,
          3,
          4,
          5,
          6,
          7,
          8,
          9,
          10,
          11,
          12,
          13,
          14,
          15,
          16,
          17,
          18,
          19,
          20
         ],
         "xaxis": "x2",
         "y": [
          0,
          0,
          0,
          0,
          0,
          0,
          0,
          0,
          0,
          0,
          0,
          0,
          0,
          0,
          0,
          0,
          0,
          0,
          0,
          0,
          0,
          0
         ],
         "yaxis": "y2"
        }
       ],
       "layout": {
        "height": 800,
        "sliders": [
         {
          "pad": {
           "t": 50
          },
          "steps": [
           {
            "args": [
             {
              "visible": [
               true,
               true,
               false,
               false,
               false,
               false,
               false,
               false,
               false,
               false,
               false,
               false,
               false,
               false,
               false,
               false
              ]
             }
            ],
            "label": "",
            "method": "update"
           },
           {
            "args": [
             {
              "visible": [
               true,
               false,
               true,
               false,
               false,
               false,
               false,
               false,
               false,
               false,
               false,
               false,
               false,
               false,
               false,
               false
              ]
             }
            ],
            "label": "",
            "method": "update"
           },
           {
            "args": [
             {
              "visible": [
               true,
               false,
               false,
               true,
               false,
               false,
               false,
               false,
               false,
               false,
               false,
               false,
               false,
               false,
               false,
               false
              ]
             }
            ],
            "label": "",
            "method": "update"
           },
           {
            "args": [
             {
              "visible": [
               true,
               false,
               false,
               false,
               true,
               false,
               false,
               false,
               false,
               false,
               false,
               false,
               false,
               false,
               false,
               false
              ]
             }
            ],
            "label": "",
            "method": "update"
           },
           {
            "args": [
             {
              "visible": [
               true,
               false,
               false,
               false,
               false,
               true,
               false,
               false,
               false,
               false,
               false,
               false,
               false,
               false,
               false,
               false
              ]
             }
            ],
            "label": "",
            "method": "update"
           },
           {
            "args": [
             {
              "visible": [
               true,
               false,
               false,
               false,
               false,
               false,
               true,
               false,
               false,
               false,
               false,
               false,
               false,
               false,
               false,
               false
              ]
             }
            ],
            "label": "",
            "method": "update"
           },
           {
            "args": [
             {
              "visible": [
               true,
               false,
               false,
               false,
               false,
               false,
               false,
               true,
               false,
               false,
               false,
               false,
               false,
               false,
               false,
               false
              ]
             }
            ],
            "label": "",
            "method": "update"
           },
           {
            "args": [
             {
              "visible": [
               true,
               false,
               false,
               false,
               false,
               false,
               false,
               false,
               true,
               false,
               false,
               false,
               false,
               false,
               false,
               false
              ]
             }
            ],
            "label": "",
            "method": "update"
           },
           {
            "args": [
             {
              "visible": [
               true,
               false,
               false,
               false,
               false,
               false,
               false,
               false,
               false,
               true,
               false,
               false,
               false,
               false,
               false,
               false
              ]
             }
            ],
            "label": "",
            "method": "update"
           },
           {
            "args": [
             {
              "visible": [
               true,
               false,
               false,
               false,
               false,
               false,
               false,
               false,
               false,
               false,
               true,
               false,
               false,
               false,
               false,
               false
              ]
             }
            ],
            "label": "",
            "method": "update"
           },
           {
            "args": [
             {
              "visible": [
               true,
               false,
               false,
               false,
               false,
               false,
               false,
               false,
               false,
               false,
               false,
               true,
               false,
               false,
               false,
               false
              ]
             }
            ],
            "label": "",
            "method": "update"
           },
           {
            "args": [
             {
              "visible": [
               true,
               false,
               false,
               false,
               false,
               false,
               false,
               false,
               false,
               false,
               false,
               false,
               true,
               false,
               false,
               false
              ]
             }
            ],
            "label": "",
            "method": "update"
           },
           {
            "args": [
             {
              "visible": [
               true,
               false,
               false,
               false,
               false,
               false,
               false,
               false,
               false,
               false,
               false,
               false,
               false,
               true,
               false,
               false
              ]
             }
            ],
            "label": "",
            "method": "update"
           },
           {
            "args": [
             {
              "visible": [
               true,
               false,
               false,
               false,
               false,
               false,
               false,
               false,
               false,
               false,
               false,
               false,
               false,
               false,
               true,
               false
              ]
             }
            ],
            "label": "",
            "method": "update"
           },
           {
            "args": [
             {
              "visible": [
               true,
               false,
               false,
               false,
               false,
               false,
               false,
               false,
               false,
               false,
               false,
               false,
               false,
               false,
               false,
               true
              ]
             }
            ],
            "label": "",
            "method": "update"
           }
          ],
          "tickwidth": 0,
          "transition": {
           "duration": 0
          }
         }
        ],
        "template": {
         "data": {
          "bar": [
           {
            "error_x": {
             "color": "#2a3f5f"
            },
            "error_y": {
             "color": "#2a3f5f"
            },
            "marker": {
             "line": {
              "color": "#E5ECF6",
              "width": 0.5
             },
             "pattern": {
              "fillmode": "overlay",
              "size": 10,
              "solidity": 0.2
             }
            },
            "type": "bar"
           }
          ],
          "barpolar": [
           {
            "marker": {
             "line": {
              "color": "#E5ECF6",
              "width": 0.5
             },
             "pattern": {
              "fillmode": "overlay",
              "size": 10,
              "solidity": 0.2
             }
            },
            "type": "barpolar"
           }
          ],
          "carpet": [
           {
            "aaxis": {
             "endlinecolor": "#2a3f5f",
             "gridcolor": "white",
             "linecolor": "white",
             "minorgridcolor": "white",
             "startlinecolor": "#2a3f5f"
            },
            "baxis": {
             "endlinecolor": "#2a3f5f",
             "gridcolor": "white",
             "linecolor": "white",
             "minorgridcolor": "white",
             "startlinecolor": "#2a3f5f"
            },
            "type": "carpet"
           }
          ],
          "choropleth": [
           {
            "colorbar": {
             "outlinewidth": 0,
             "ticks": ""
            },
            "type": "choropleth"
           }
          ],
          "contour": [
           {
            "colorbar": {
             "outlinewidth": 0,
             "ticks": ""
            },
            "colorscale": [
             [
              0,
              "#0d0887"
             ],
             [
              0.1111111111111111,
              "#46039f"
             ],
             [
              0.2222222222222222,
              "#7201a8"
             ],
             [
              0.3333333333333333,
              "#9c179e"
             ],
             [
              0.4444444444444444,
              "#bd3786"
             ],
             [
              0.5555555555555556,
              "#d8576b"
             ],
             [
              0.6666666666666666,
              "#ed7953"
             ],
             [
              0.7777777777777778,
              "#fb9f3a"
             ],
             [
              0.8888888888888888,
              "#fdca26"
             ],
             [
              1,
              "#f0f921"
             ]
            ],
            "type": "contour"
           }
          ],
          "contourcarpet": [
           {
            "colorbar": {
             "outlinewidth": 0,
             "ticks": ""
            },
            "type": "contourcarpet"
           }
          ],
          "heatmap": [
           {
            "colorbar": {
             "outlinewidth": 0,
             "ticks": ""
            },
            "colorscale": [
             [
              0,
              "#0d0887"
             ],
             [
              0.1111111111111111,
              "#46039f"
             ],
             [
              0.2222222222222222,
              "#7201a8"
             ],
             [
              0.3333333333333333,
              "#9c179e"
             ],
             [
              0.4444444444444444,
              "#bd3786"
             ],
             [
              0.5555555555555556,
              "#d8576b"
             ],
             [
              0.6666666666666666,
              "#ed7953"
             ],
             [
              0.7777777777777778,
              "#fb9f3a"
             ],
             [
              0.8888888888888888,
              "#fdca26"
             ],
             [
              1,
              "#f0f921"
             ]
            ],
            "type": "heatmap"
           }
          ],
          "heatmapgl": [
           {
            "colorbar": {
             "outlinewidth": 0,
             "ticks": ""
            },
            "colorscale": [
             [
              0,
              "#0d0887"
             ],
             [
              0.1111111111111111,
              "#46039f"
             ],
             [
              0.2222222222222222,
              "#7201a8"
             ],
             [
              0.3333333333333333,
              "#9c179e"
             ],
             [
              0.4444444444444444,
              "#bd3786"
             ],
             [
              0.5555555555555556,
              "#d8576b"
             ],
             [
              0.6666666666666666,
              "#ed7953"
             ],
             [
              0.7777777777777778,
              "#fb9f3a"
             ],
             [
              0.8888888888888888,
              "#fdca26"
             ],
             [
              1,
              "#f0f921"
             ]
            ],
            "type": "heatmapgl"
           }
          ],
          "histogram": [
           {
            "marker": {
             "pattern": {
              "fillmode": "overlay",
              "size": 10,
              "solidity": 0.2
             }
            },
            "type": "histogram"
           }
          ],
          "histogram2d": [
           {
            "colorbar": {
             "outlinewidth": 0,
             "ticks": ""
            },
            "colorscale": [
             [
              0,
              "#0d0887"
             ],
             [
              0.1111111111111111,
              "#46039f"
             ],
             [
              0.2222222222222222,
              "#7201a8"
             ],
             [
              0.3333333333333333,
              "#9c179e"
             ],
             [
              0.4444444444444444,
              "#bd3786"
             ],
             [
              0.5555555555555556,
              "#d8576b"
             ],
             [
              0.6666666666666666,
              "#ed7953"
             ],
             [
              0.7777777777777778,
              "#fb9f3a"
             ],
             [
              0.8888888888888888,
              "#fdca26"
             ],
             [
              1,
              "#f0f921"
             ]
            ],
            "type": "histogram2d"
           }
          ],
          "histogram2dcontour": [
           {
            "colorbar": {
             "outlinewidth": 0,
             "ticks": ""
            },
            "colorscale": [
             [
              0,
              "#0d0887"
             ],
             [
              0.1111111111111111,
              "#46039f"
             ],
             [
              0.2222222222222222,
              "#7201a8"
             ],
             [
              0.3333333333333333,
              "#9c179e"
             ],
             [
              0.4444444444444444,
              "#bd3786"
             ],
             [
              0.5555555555555556,
              "#d8576b"
             ],
             [
              0.6666666666666666,
              "#ed7953"
             ],
             [
              0.7777777777777778,
              "#fb9f3a"
             ],
             [
              0.8888888888888888,
              "#fdca26"
             ],
             [
              1,
              "#f0f921"
             ]
            ],
            "type": "histogram2dcontour"
           }
          ],
          "mesh3d": [
           {
            "colorbar": {
             "outlinewidth": 0,
             "ticks": ""
            },
            "type": "mesh3d"
           }
          ],
          "parcoords": [
           {
            "line": {
             "colorbar": {
              "outlinewidth": 0,
              "ticks": ""
             }
            },
            "type": "parcoords"
           }
          ],
          "pie": [
           {
            "automargin": true,
            "type": "pie"
           }
          ],
          "scatter": [
           {
            "marker": {
             "colorbar": {
              "outlinewidth": 0,
              "ticks": ""
             }
            },
            "type": "scatter"
           }
          ],
          "scatter3d": [
           {
            "line": {
             "colorbar": {
              "outlinewidth": 0,
              "ticks": ""
             }
            },
            "marker": {
             "colorbar": {
              "outlinewidth": 0,
              "ticks": ""
             }
            },
            "type": "scatter3d"
           }
          ],
          "scattercarpet": [
           {
            "marker": {
             "colorbar": {
              "outlinewidth": 0,
              "ticks": ""
             }
            },
            "type": "scattercarpet"
           }
          ],
          "scattergeo": [
           {
            "marker": {
             "colorbar": {
              "outlinewidth": 0,
              "ticks": ""
             }
            },
            "type": "scattergeo"
           }
          ],
          "scattergl": [
           {
            "marker": {
             "colorbar": {
              "outlinewidth": 0,
              "ticks": ""
             }
            },
            "type": "scattergl"
           }
          ],
          "scattermapbox": [
           {
            "marker": {
             "colorbar": {
              "outlinewidth": 0,
              "ticks": ""
             }
            },
            "type": "scattermapbox"
           }
          ],
          "scatterpolar": [
           {
            "marker": {
             "colorbar": {
              "outlinewidth": 0,
              "ticks": ""
             }
            },
            "type": "scatterpolar"
           }
          ],
          "scatterpolargl": [
           {
            "marker": {
             "colorbar": {
              "outlinewidth": 0,
              "ticks": ""
             }
            },
            "type": "scatterpolargl"
           }
          ],
          "scatterternary": [
           {
            "marker": {
             "colorbar": {
              "outlinewidth": 0,
              "ticks": ""
             }
            },
            "type": "scatterternary"
           }
          ],
          "surface": [
           {
            "colorbar": {
             "outlinewidth": 0,
             "ticks": ""
            },
            "colorscale": [
             [
              0,
              "#0d0887"
             ],
             [
              0.1111111111111111,
              "#46039f"
             ],
             [
              0.2222222222222222,
              "#7201a8"
             ],
             [
              0.3333333333333333,
              "#9c179e"
             ],
             [
              0.4444444444444444,
              "#bd3786"
             ],
             [
              0.5555555555555556,
              "#d8576b"
             ],
             [
              0.6666666666666666,
              "#ed7953"
             ],
             [
              0.7777777777777778,
              "#fb9f3a"
             ],
             [
              0.8888888888888888,
              "#fdca26"
             ],
             [
              1,
              "#f0f921"
             ]
            ],
            "type": "surface"
           }
          ],
          "table": [
           {
            "cells": {
             "fill": {
              "color": "#EBF0F8"
             },
             "line": {
              "color": "white"
             }
            },
            "header": {
             "fill": {
              "color": "#C8D4E3"
             },
             "line": {
              "color": "white"
             }
            },
            "type": "table"
           }
          ]
         },
         "layout": {
          "annotationdefaults": {
           "arrowcolor": "#2a3f5f",
           "arrowhead": 0,
           "arrowwidth": 1
          },
          "autotypenumbers": "strict",
          "coloraxis": {
           "colorbar": {
            "outlinewidth": 0,
            "ticks": ""
           }
          },
          "colorscale": {
           "diverging": [
            [
             0,
             "#8e0152"
            ],
            [
             0.1,
             "#c51b7d"
            ],
            [
             0.2,
             "#de77ae"
            ],
            [
             0.3,
             "#f1b6da"
            ],
            [
             0.4,
             "#fde0ef"
            ],
            [
             0.5,
             "#f7f7f7"
            ],
            [
             0.6,
             "#e6f5d0"
            ],
            [
             0.7,
             "#b8e186"
            ],
            [
             0.8,
             "#7fbc41"
            ],
            [
             0.9,
             "#4d9221"
            ],
            [
             1,
             "#276419"
            ]
           ],
           "sequential": [
            [
             0,
             "#0d0887"
            ],
            [
             0.1111111111111111,
             "#46039f"
            ],
            [
             0.2222222222222222,
             "#7201a8"
            ],
            [
             0.3333333333333333,
             "#9c179e"
            ],
            [
             0.4444444444444444,
             "#bd3786"
            ],
            [
             0.5555555555555556,
             "#d8576b"
            ],
            [
             0.6666666666666666,
             "#ed7953"
            ],
            [
             0.7777777777777778,
             "#fb9f3a"
            ],
            [
             0.8888888888888888,
             "#fdca26"
            ],
            [
             1,
             "#f0f921"
            ]
           ],
           "sequentialminus": [
            [
             0,
             "#0d0887"
            ],
            [
             0.1111111111111111,
             "#46039f"
            ],
            [
             0.2222222222222222,
             "#7201a8"
            ],
            [
             0.3333333333333333,
             "#9c179e"
            ],
            [
             0.4444444444444444,
             "#bd3786"
            ],
            [
             0.5555555555555556,
             "#d8576b"
            ],
            [
             0.6666666666666666,
             "#ed7953"
            ],
            [
             0.7777777777777778,
             "#fb9f3a"
            ],
            [
             0.8888888888888888,
             "#fdca26"
            ],
            [
             1,
             "#f0f921"
            ]
           ]
          },
          "colorway": [
           "#636efa",
           "#EF553B",
           "#00cc96",
           "#ab63fa",
           "#FFA15A",
           "#19d3f3",
           "#FF6692",
           "#B6E880",
           "#FF97FF",
           "#FECB52"
          ],
          "font": {
           "color": "#2a3f5f"
          },
          "geo": {
           "bgcolor": "white",
           "lakecolor": "white",
           "landcolor": "#E5ECF6",
           "showlakes": true,
           "showland": true,
           "subunitcolor": "white"
          },
          "hoverlabel": {
           "align": "left"
          },
          "hovermode": "closest",
          "mapbox": {
           "style": "light"
          },
          "paper_bgcolor": "white",
          "plot_bgcolor": "#E5ECF6",
          "polar": {
           "angularaxis": {
            "gridcolor": "white",
            "linecolor": "white",
            "ticks": ""
           },
           "bgcolor": "#E5ECF6",
           "radialaxis": {
            "gridcolor": "white",
            "linecolor": "white",
            "ticks": ""
           }
          },
          "scene": {
           "xaxis": {
            "backgroundcolor": "#E5ECF6",
            "gridcolor": "white",
            "gridwidth": 2,
            "linecolor": "white",
            "showbackground": true,
            "ticks": "",
            "zerolinecolor": "white"
           },
           "yaxis": {
            "backgroundcolor": "#E5ECF6",
            "gridcolor": "white",
            "gridwidth": 2,
            "linecolor": "white",
            "showbackground": true,
            "ticks": "",
            "zerolinecolor": "white"
           },
           "zaxis": {
            "backgroundcolor": "#E5ECF6",
            "gridcolor": "white",
            "gridwidth": 2,
            "linecolor": "white",
            "showbackground": true,
            "ticks": "",
            "zerolinecolor": "white"
           }
          },
          "shapedefaults": {
           "line": {
            "color": "#2a3f5f"
           }
          },
          "ternary": {
           "aaxis": {
            "gridcolor": "white",
            "linecolor": "white",
            "ticks": ""
           },
           "baxis": {
            "gridcolor": "white",
            "linecolor": "white",
            "ticks": ""
           },
           "bgcolor": "#E5ECF6",
           "caxis": {
            "gridcolor": "white",
            "linecolor": "white",
            "ticks": ""
           }
          },
          "title": {
           "x": 0.05
          },
          "xaxis": {
           "automargin": true,
           "gridcolor": "white",
           "linecolor": "white",
           "ticks": "",
           "title": {
            "standoff": 15
           },
           "zerolinecolor": "white",
           "zerolinewidth": 2
          },
          "yaxis": {
           "automargin": true,
           "gridcolor": "white",
           "linecolor": "white",
           "ticks": "",
           "title": {
            "standoff": 15
           },
           "zerolinecolor": "white",
           "zerolinewidth": 2
          }
         }
        },
        "title": {
         "text": "two atoms in an unit cell, $K_1>K_2, M_1=M_2$"
        },
        "width": 800,
        "xaxis": {
         "anchor": "y",
         "domain": [
          0,
          1
         ],
         "ticktext": [
          "$-\\pi$",
          "$-\\pi/2a$",
          "$0$",
          "$\\pi/2a$",
          "$\\pi/a$"
         ],
         "tickvals": [
          -3.141592653589793,
          -1.5707963267948966,
          0,
          1.5707963267948966,
          3.141592653589793
         ],
         "title": {
          "text": "wave number"
         }
        },
        "xaxis2": {
         "anchor": "y2",
         "domain": [
          0,
          1
         ],
         "range": [
          0,
          20
         ],
         "visible": false
        },
        "yaxis": {
         "anchor": "x",
         "domain": [
          0.405,
          1
         ],
         "title": {
          "text": "angular frequency"
         }
        },
        "yaxis2": {
         "anchor": "x2",
         "domain": [
          0,
          0.255
         ],
         "range": [
          -1.2,
          1.2
         ],
         "ticktext": [],
         "tickvals": []
        }
       }
      }
     },
     "metadata": {},
     "output_type": "display_data"
    }
   ],
   "source": [
    "# 周期境界、Plotly版、sliderを使ってmodeをアニメーション\n",
    "import plotly.graph_objects as go\n",
    "from plotly.subplots import make_subplots\n",
    "import numpy as np\n",
    "\n",
    "## パラメータ設定 ##　格子定数は1に設定\n",
    "m0 = 1            # 基準の質量\n",
    "k0 = 1            # 基準のバネ定数\n",
    "m_num = 2       # 単位格子内の質点の数\n",
    "k_num = 33        # 波数を変化させる数\n",
    "\n",
    "k_array = np.linspace(-1, 1, k_num)*np.pi  # 波数の配列\n",
    "omega_square = np.zeros((k_num, m_num))   # 周波数の２乗の配列を準備\n",
    "eigen_values = np.zeros((k_num, m_num), dtype = np.complex128)    # 固有値の配列を準備、複素数\n",
    "eigen_vectors = np.zeros((k_num, m_num, m_num), dtype = np.complex128)   # 固有ベクトルの配列を準備、複素数\n",
    "\n",
    "delta_m = 0  # 単位格子内の質量\n",
    "delta_k = 1/3    # 単位格子内のバネ定数\n",
    "m1 = 1/(1 - delta_m)  # 質量1\n",
    "m2 = 1/(1 + delta_m)  # 質量2\n",
    "k1 = 1 + delta_k  # バネ1\n",
    "k2 = 1 - delta_k  # バネ2\n",
    "m_list = [m1,m2]  # 質量を並べたリスト\n",
    "k_list = [k1,k2]  # バネ定数を並べたリスト、要素数は質量リストよりもひとつ多い\n",
    "N = len(m_list)  # 質量の配列から行列サイズNを求める\n",
    "\n",
    "## 質量の対角行列Mを定義 ##\n",
    "M = np.zeros((N, N), dtype = np.complex128)\n",
    "M[0,0] = m1\n",
    "M[1,1] = m2\n",
    "\n",
    "j = 0\n",
    "for k in k_array:\n",
    "    ## バネ定数の行列Kを定義 ##\n",
    "    K = np.zeros((N, N), dtype = np.complex128)\n",
    "    K[0,0] = k1 + k2\n",
    "    K[1,1] = k1 + k2\n",
    "    K[0,1] = -k1 -k2*np.exp(-1j*k)\n",
    "    K[1,0] = -k1 -k2*np.exp(1j*k)\n",
    "    \n",
    "    ## 固有値方程式を解く ##\n",
    "    M_inv = np.linalg.inv(M)  # Mの逆行列\n",
    "    eigen_value, eigen_vector = np.linalg.eig(np.dot(M_inv, K))  # 固有値方程式を解く\n",
    "    eigen_id = np.argsort(eigen_value)  # 固有値が小さい順にソートしたindexを取得\n",
    "    eigen_values[j,:] = eigen_value[eigen_id]  # ソートした固有値、角周波数の２乗に対応\n",
    "    eigen_vectors[j,:] = eigen_vector.T[eigen_id]   # ソートした固有ベクトル、複素数表示した変位に対応\n",
    "    omega_square = eigen_values.real\n",
    "    j += 1\n",
    "print(eigen_vectors[0, :])\n",
    "\n",
    "\n",
    "### Plotlyによる可視化 ###\n",
    "## 散布図プロット用の配列の準備 ##\n",
    "x_scatter_array = np.ravel(k_array.reshape(k_num,1) * np.ones((k_num, m_num)))\n",
    "omega_square_array = np.ravel(omega_square)\n",
    "\n",
    "## mode表示用のトレースの指定 ##\n",
    "scatter_trace = go.Scatter(x=x_scatter_array,\n",
    "                           y=np.sqrt(omega_square_array),\n",
    "                           mode=\"markers\",\n",
    "                           marker={\"size\": 10, \"colorscale\": \"Bluered\", \"cmin\": 0, \"cmax\": 1,},\n",
    "                           name=\"mode\",\n",
    "                          )\n",
    "\n",
    "frame_num = 15    # アニメーションのフレーム数\n",
    "shape_period = 10  #単位格子何個分を表示するか\n",
    "\n",
    "## グラフ表示\n",
    "fig = go.FigureWidget(make_subplots(rows=2, cols=1, row_heights=[0.7,0.3],))\n",
    "fig.update_layout(width=800, height=800, title=\"two atoms in an unit cell, $K_1>K_2, M_1=M_2$\")\n",
    "fig.add_trace(scatter_trace, row=1, col=1,)\n",
    "fig.update_xaxes(title=\"wave number\", row=1, col=1,)\n",
    "fig.update_yaxes(title=\"angular frequency\", row=1, col=1,)\n",
    "fig.update_xaxes(tickvals=[-np.pi, -np.pi/2, 0, np.pi/2, np.pi], ticktext=[r\"$-\\pi$\",r\"$-\\pi/2a$\",r\"$0$\",r\"$\\pi/2a$\",r\"$\\pi/a$\"], row=1, col=1)\n",
    "fig.update_xaxes(range=[0, 2*shape_period], visible=False, row=2, col=1,)\n",
    "fig.update_yaxes(range=[-1.2,1.2], tickvals=[], ticktext=[], row=2, col=1)\n",
    "\n",
    "fig.data[0].marker.color = [0]*(k_num*m_num)\n",
    "fig.data[0].marker.size  = [10]*(k_num*m_num)\n",
    "fig.data[0].marker.line.width = 0\n",
    "\n",
    "for t in range(frame_num):    # 変位分布の初期プロットをフレーム数分準備\n",
    "    fig.add_trace(go.Scatter(visible=False,\n",
    "                             x=np.arange(m_num*shape_period+1),\n",
    "                             y=np.zeros(m_num*shape_period+2),\n",
    "                             mode = \"lines+markers\",\n",
    "                             marker = {\"size\":20,\"color\":\"gray\"},\n",
    "                             line={\"width\":5},\n",
    "                             name=\"displacement\",),\n",
    "                  row=2, col=1)\n",
    "fig.data[1].visible = True\n",
    "\n",
    "steps = []    # 各スライダーでどのグラフを表示させ、どれを非表示にするか\n",
    "for i in range(frame_num):\n",
    "    step = {\"method\":\"update\",\n",
    "            \"args\":[{\"visible\": [False]*(frame_num+1)},],  # 全てのグラフを一旦非表示\n",
    "            \"label\":\"\",}\n",
    "    step[\"args\"][0][\"visible\"][0] = True     # 上のグラフは常に表示\n",
    "    step[\"args\"][0][\"visible\"][i+1] = True   # i番目のグラフも表示、上のグラフも含めるためずれるので+1\n",
    "    steps += [step]\n",
    "\n",
    "sliders = [{\"pad\":{\"t\": 50},     # スライダーの設定\n",
    "            \"steps\":steps,\n",
    "            \"tickwidth\":0,\n",
    "            \"transition\":{\"duration\":0},\n",
    "           }]\n",
    "fig.update_layout(sliders=sliders)\n",
    "    \n",
    "def update_point(trace, points, selector): # modeをクリックした場合の関数\n",
    "    i = points.point_inds[0]\n",
    "    c = [0]*len(trace.x)\n",
    "    s = [10]*len(trace.x)\n",
    "    c[i] = 1\n",
    "    s[i] = 20\n",
    "    with fig.batch_update():\n",
    "        fig.data[0].marker.color = c\n",
    "        fig.data[0].marker.size = s\n",
    "    for t in range(0, frame_num):     # 各フレームの計算\n",
    "        fig.data[t+1].x = np.arange(m_num*shape_period+1)\n",
    "        y0 = eigen_vectors[i//m_num, i%m_num, :]\n",
    "        print(y0)\n",
    "        y_total = y0\n",
    "        for sp in range(shape_period+1):     # 波数がずれた隣の単位格子の軌跡を繋げていく\n",
    "            y_sp = y0*np.exp((sp+1)*1j*(trace.x)[i])\n",
    "            y_total = np.concatenate((y_total,y_sp))\n",
    "        fig.data[t+1].y = (y_total*np.exp(-2j*np.pi*t/(frame_num-1))).real\n",
    "    fig.data[1].visible = True\n",
    "    fig.update_layout({\"sliders\":{\"active\":0}})\n",
    "\n",
    "fig.data[0].on_click(update_point)\n",
    "fig.show()\n",
    "# display(fig)"
   ]
  },
  {
   "cell_type": "code",
   "execution_count": null,
   "id": "05c362cd",
   "metadata": {},
   "outputs": [],
   "source": []
  }
 ],
 "metadata": {
  "kernelspec": {
   "display_name": "Python 3",
   "language": "python",
   "name": "python3"
  },
  "language_info": {
   "codemirror_mode": {
    "name": "ipython",
    "version": 3
   },
   "file_extension": ".py",
   "mimetype": "text/x-python",
   "name": "python",
   "nbconvert_exporter": "python",
   "pygments_lexer": "ipython3",
   "version": "3.8.12"
  }
 },
 "nbformat": 4,
 "nbformat_minor": 5
}
