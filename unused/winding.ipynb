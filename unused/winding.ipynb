{
 "cells": [
  {
   "cell_type": "code",
   "execution_count": 7,
   "metadata": {},
   "outputs": [
    {
     "name": "stdout",
     "output_type": "stream",
     "text": [
      "(63, 4)\n"
     ]
    },
    {
     "data": {
      "image/png": "[encoded data removed]",
      "text/plain": [
       "<Figure size 432x288 with 1 Axes>"
      ]
     },
     "metadata": {
      "needs_background": "light"
     },
     "output_type": "display_data"
    }
   ],
   "source": [
    "import numpy as np\n",
    "\n",
    "M = 1.\n",
    "C = 1.\n",
    "Ct = 0.1\n",
    "w0 = np.sqrt(C / M)\n",
    "wt = np.sqrt(Ct / M)\n",
    "precision = 1e-1\n",
    "ks = np.arange(0, 2 * np.pi, precision)\n",
    "O = 0.\n",
    "\n",
    "evals_all = []\n",
    "evecs_all = []\n",
    "for k in ks:\n",
    "    K = np.exp(1.j * k)\n",
    "    # Hl = w0**2 * np.array([\n",
    "    #     [2 - K - K.conj() -2.j * O / w0**2, 0],\n",
    "    #     [0, 0]\n",
    "    # ])\n",
    "    # Ht = wt**2 * np.array([\n",
    "    #     [0, 0],\n",
    "    #     [0, 2 - K + K.conj() - 2.j * O / wt**2]\n",
    "    # ])\n",
    "    # H = Hl + Ht\n",
    "\n",
    "    # H = w0**2 * np.array([\n",
    "    #     [2 - K - K.conj(), - 2.j * O / w0**2],\n",
    "    #     [2.j * O / w0**2, 0.1 *(2 - K - K.conj())]\n",
    "    # ])\n",
    "\n",
    "    L11 = w0**2 * np.array([\n",
    "        [2 - K - K.conj(), 0.],\n",
    "        [0,  0.1 * (2 - K - K.conj())]\n",
    "    ])\n",
    "    Oh = np.array([\n",
    "        [0, O],\n",
    "        [-O, 0]\n",
    "    ])\n",
    "\n",
    "    H = np.vstack([\n",
    "        np.hstack([np.zeros((2,2)), np.eye(2)]),\n",
    "        np.hstack([L11, 2.j * Oh])\n",
    "    ])\n",
    "\n",
    "    evals, evecs = np.linalg.eig(H)\n",
    "    idcs = np.argsort(evals)\n",
    "    evals, evcs = evals[idcs], evecs[idcs]\n",
    "    evals_all.append(evals)\n",
    "    evecs_all.append(evecs)\n",
    "evals_all = np.array(evals_all)\n",
    "evecs_all = np.array(evecs_all)\n",
    "print(evals_all.shape)\n",
    "\n",
    "\n",
    "# ws = []\n",
    "# for k in ks:\n",
    "#     K = np.exp(1.j * k)\n",
    "\n",
    "#     w = 2 * O / (2 - K - K.conj())\n",
    "#     ws.append(w)\n",
    "# ws = np.array(ws)\n",
    "# print(min(ws))\n",
    "\n",
    "\n",
    "\n",
    "import matplotlib.pyplot as plt\n",
    "fig = plt.figure()\n",
    "for i in range(evals_all.shape[1]):\n",
    "    plt.plot(ks, np.sqrt(evals_all[:, i]).real, color='blue')\n",
    "plt.xlabel(r\"$k_x$ [/m]\", fontsize=14)\n",
    "plt.xlim(0, np.pi * 2)\n",
    "plt.ylabel(r\"$\\omega$ [/s]\", fontsize=14)\n",
    "plt.figtext(.47, .3, r\"$\\Omega=$\" + f'{O:.1f}', fontsize=10)\n",
    "plt.show()\n",
    "# fig.savefig(\"1dc-dispersion-\" + f'{O:.1f}' + \".png\") \n",
    "\n",
    "\n",
    "\n",
    "\n"
   ]
  }
 ],
 "metadata": {
  "interpreter": {
   "hash": "50417b17092be1d7c2348d1d593932fa38b32b878dc9122235b7cc9e1a3cc24f"
  },
  "kernelspec": {
   "display_name": "Python 3.8.12 64-bit ('base': conda)",
   "language": "python",
   "name": "python3"
  },
  "language_info": {
   "codemirror_mode": {
    "name": "ipython",
    "version": 3
   },
   "file_extension": ".py",
   "mimetype": "text/x-python",
   "name": "python",
   "nbconvert_exporter": "python",
   "pygments_lexer": "ipython3",
   "version": "3.8.12"
  },
  "orig_nbformat": 4
 },
 "nbformat": 4,
 "nbformat_minor": 2
}
