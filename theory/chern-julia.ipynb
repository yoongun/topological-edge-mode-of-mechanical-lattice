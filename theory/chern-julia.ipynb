{
 "cells": [
  {
   "cell_type": "markdown",
   "metadata": {},
   "source": [
    "# Calculating Chern number"
   ]
  },
  {
   "cell_type": "code",
   "execution_count": 2,
   "metadata": {},
   "outputs": [
    {
     "name": "stderr",
     "output_type": "stream",
     "text": [
      "\u001b[32m\u001b[1m    Updating\u001b[22m\u001b[39m registry at `C:\\Users\\cfr2a\\.julia\\registries\\General`\n",
      "\u001b[32m\u001b[1m    Updating\u001b[22m\u001b[39m git-repo `https://github.com/JuliaRegistries/General.git`\n",
      "\u001b[32m\u001b[1m   Resolving\u001b[22m\u001b[39m package versions...\n",
      "\u001b[32m\u001b[1m   Installed\u001b[22m\u001b[39m libvorbis_jll ───────── v1.3.7+1\n",
      "\u001b[32m\u001b[1m   Installed\u001b[22m\u001b[39m URIParser ───────────── v0.4.1\n",
      "\u001b[32m\u001b[1m   Installed\u001b[22m\u001b[39m Hiccup ──────────────── v0.2.2\n",
      "\u001b[32m\u001b[1m   Installed\u001b[22m\u001b[39m Lazy ────────────────── v0.15.1\n",
      "\u001b[32m\u001b[1m   Installed\u001b[22m\u001b[39m BinDeps ─────────────── v1.0.2\n",
      "\u001b[32m\u001b[1m   Installed\u001b[22m\u001b[39m PlotlyBase ──────────── v0.8.18\n",
      "\u001b[32m\u001b[1m   Installed\u001b[22m\u001b[39m WebSockets ──────────── v1.5.9\n",
      "\u001b[32m\u001b[1m   Installed\u001b[22m\u001b[39m PlotlyJS ────────────── v0.18.8\n",
      "\u001b[32m\u001b[1m   Installed\u001b[22m\u001b[39m Kaleido_jll ─────────── v0.1.0+0\n",
      "\u001b[32m\u001b[1m   Installed\u001b[22m\u001b[39m UnPack ──────────────── v1.0.2\n",
      "\u001b[32m\u001b[1m   Installed\u001b[22m\u001b[39m AssetRegistry ───────── v0.1.0\n",
      "\u001b[32m\u001b[1m   Installed\u001b[22m\u001b[39m Mux ─────────────────── v0.7.6\n",
      "\u001b[32m\u001b[1m   Installed\u001b[22m\u001b[39m JSExpr ──────────────── v0.5.3\n",
      "\u001b[32m\u001b[1m   Installed\u001b[22m\u001b[39m Parameters ──────────── v0.12.3\n",
      "\u001b[32m\u001b[1m   Installed\u001b[22m\u001b[39m Widgets ─────────────── v0.6.4\n",
      "\u001b[32m\u001b[1m   Installed\u001b[22m\u001b[39m Observables ─────────── v0.4.0\n",
      "\u001b[32m\u001b[1m   Installed\u001b[22m\u001b[39m Pidfile ─────────────── v1.2.0\n",
      "\u001b[32m\u001b[1m   Installed\u001b[22m\u001b[39m FunctionalCollections ─ v0.5.0\n",
      "\u001b[32m\u001b[1m   Installed\u001b[22m\u001b[39m Mustache ────────────── v1.0.12\n",
      "\u001b[32m\u001b[1m   Installed\u001b[22m\u001b[39m Blink ───────────────── v0.12.5\n",
      "\u001b[32m\u001b[1m   Installed\u001b[22m\u001b[39m WebIO ───────────────── v0.8.16\n",
      "\u001b[32m\u001b[1m    Updating\u001b[22m\u001b[39m `C:\\Users\\cfr2a\\.julia\\environments\\v1.6\\Project.toml`\n",
      " \u001b[90m [f0f68f2c] \u001b[39m\u001b[92m+ PlotlyJS v0.18.8\u001b[39m\n",
      "\u001b[32m\u001b[1m    Updating\u001b[22m\u001b[39m `C:\\Users\\cfr2a\\.julia\\environments\\v1.6\\Manifest.toml`\n",
      " \u001b[90m [bf4720bc] \u001b[39m\u001b[92m+ AssetRegistry v0.1.0\u001b[39m\n",
      " \u001b[90m [9e28174c] \u001b[39m\u001b[92m+ BinDeps v1.0.2\u001b[39m\n",
      " \u001b[90m [ad839575] \u001b[39m\u001b[92m+ Blink v0.12.5\u001b[39m\n",
      " \u001b[90m [de31a74c] \u001b[39m\u001b[92m+ FunctionalCollections v0.5.0\u001b[39m\n",
      " \u001b[90m [9fb69e20] \u001b[39m\u001b[92m+ Hiccup v0.2.2\u001b[39m\n",
      " \u001b[90m [97c1335a] \u001b[39m\u001b[92m+ JSExpr v0.5.3\u001b[39m\n",
      " \u001b[90m [50d2b5c4] \u001b[39m\u001b[92m+ Lazy v0.15.1\u001b[39m\n",
      " \u001b[90m [ffc61752] \u001b[39m\u001b[92m+ Mustache v1.0.12\u001b[39m\n",
      " \u001b[90m [a975b10e] \u001b[39m\u001b[92m+ Mux v0.7.6\u001b[39m\n",
      " \u001b[90m [510215fc] \u001b[39m\u001b[92m+ Observables v0.4.0\u001b[39m\n",
      " \u001b[90m [d96e819e] \u001b[39m\u001b[92m+ Parameters v0.12.3\u001b[39m\n",
      " \u001b[90m [fa939f87] \u001b[39m\u001b[92m+ Pidfile v1.2.0\u001b[39m\n",
      " \u001b[90m [a03496cd] \u001b[39m\u001b[92m+ PlotlyBase v0.8.18\u001b[39m\n",
      " \u001b[90m [f0f68f2c] \u001b[39m\u001b[92m+ PlotlyJS v0.18.8\u001b[39m\n",
      " \u001b[90m [30578b45] \u001b[39m\u001b[92m+ URIParser v0.4.1\u001b[39m\n",
      " \u001b[90m [3a884ed6] \u001b[39m\u001b[92m+ UnPack v1.0.2\u001b[39m\n",
      " \u001b[90m [0f1e0344] \u001b[39m\u001b[92m+ WebIO v0.8.16\u001b[39m\n",
      " \u001b[90m [104b5d7c] \u001b[39m\u001b[92m+ WebSockets v1.5.9\u001b[39m\n",
      " \u001b[90m [cc8bc4a8] \u001b[39m\u001b[92m+ Widgets v0.6.4\u001b[39m\n",
      " \u001b[90m [f7e6163d] \u001b[39m\u001b[92m+ Kaleido_jll v0.1.0+0\u001b[39m\n",
      " \u001b[90m [f27f6e37] \u001b[39m\u001b[93m↑ libvorbis_jll v1.3.7+0 ⇒ v1.3.7+1\u001b[39m\n",
      "\u001b[32m\u001b[1m    Building\u001b[22m\u001b[39m WebIO ───→ `C:\\Users\\cfr2a\\.julia\\scratchspaces\\44cfe95a-1eb2-52ea-b672-e2afdf69b78f\\5fe32e4086d49f7ab9b087296742859f3ae6d62a\\build.log`\n",
      "\u001b[32m\u001b[1m    Building\u001b[22m\u001b[39m Blink ───→ `C:\\Users\\cfr2a\\.julia\\scratchspaces\\44cfe95a-1eb2-52ea-b672-e2afdf69b78f\\08d0b679fd7caa49e2bca9214b131289e19808c0\\build.log`\n",
      "\u001b[32m\u001b[1m    Building\u001b[22m\u001b[39m PlotlyJS → `C:\\Users\\cfr2a\\.julia\\scratchspaces\\44cfe95a-1eb2-52ea-b672-e2afdf69b78f\\53d6325e14d3bdb85fd387a085075f36082f35a3\\build.log`\n",
      "\u001b[32m\u001b[1mPrecompiling\u001b[22m\u001b[39m project...\n",
      "\u001b[32m  ✓ \u001b[39m\u001b[90mPidfile\u001b[39m\n",
      "\u001b[32m  ✓ \u001b[39m\u001b[90mUnPack\u001b[39m\n",
      "\u001b[32m  ✓ \u001b[39m\u001b[90mObservables\u001b[39m\n",
      "\u001b[32m  ✓ \u001b[39m\u001b[90mFunctionalCollections\u001b[39m\n",
      "\u001b[32m  ✓ \u001b[39m\u001b[90mKaleido_jll\u001b[39m\n",
      "\u001b[33m  ✓ \u001b[39m\u001b[90mlibvorbis_jll\u001b[39m\n",
      "\u001b[32m  ✓ \u001b[39m\u001b[90mHiccup\u001b[39m\n",
      "\u001b[32m  ✓ \u001b[39m\u001b[90mLazy\u001b[39m\n",
      "\u001b[32m  ✓ \u001b[39m\u001b[90mMustache\u001b[39m\n",
      "\u001b[32m  ✓ \u001b[39m\u001b[90mWebSockets\u001b[39m\n",
      "\u001b[32m  ✓ \u001b[39m\u001b[90mAssetRegistry\u001b[39m\n",
      "\u001b[32m  ✓ \u001b[39m\u001b[90mParameters\u001b[39m\n",
      "\u001b[32m  ✓ \u001b[39m\u001b[90mWidgets\u001b[39m\n",
      "\u001b[33m  ✓ \u001b[39m\u001b[90mFFMPEG_jll\u001b[39m\n",
      "\u001b[32m  ✓ \u001b[39m\u001b[90mMux\u001b[39m\n",
      "\u001b[33m  ✓ \u001b[39m\u001b[90mFFMPEG\u001b[39m\n",
      "\u001b[32m  ✓ \u001b[39m\u001b[90mPlotlyBase\u001b[39m\n",
      "\u001b[32m  ✓ \u001b[39m\u001b[90mWebIO\u001b[39m\n",
      "\u001b[32m  ✓ \u001b[39m\u001b[90mGR_jll\u001b[39m\n",
      "\u001b[32m  ✓ \u001b[39m\u001b[90mJSExpr\u001b[39m\n",
      "\u001b[33m  ✓ \u001b[39m\u001b[90mGR\u001b[39m\n",
      "\u001b[32m  ✓ \u001b[39m\u001b[90mBlink\u001b[39m\n",
      "\u001b[32m  ✓ \u001b[39mPlotlyJS\n",
      "\u001b[33m  ✓ \u001b[39mPlots\n",
      "  24 dependencies successfully precompiled in 63 seconds (128 already precompiled)\n",
      "  \u001b[33m5\u001b[39m dependencies precompiled but different versions are currently loaded. Restart julia to access the new versions\n"
     ]
    }
   ],
   "source": [
    "import Pkg; Pkg.add(\"PlotlyJS\")"
   ]
  },
  {
   "cell_type": "code",
   "execution_count": 1,
   "metadata": {},
   "outputs": [
    {
     "data": {
      "application/vnd.webio.node+json": {
       "children": [],
       "instanceArgs": {
        "namespace": "html",
        "tag": "div"
       },
       "nodeType": "DOM",
       "props": {},
       "type": "node"
      },
      "text/html": [
       "<div style=\"padding: 1em; background-color: #f8d6da; border: 1px solid #f5c6cb; font-weight: bold;\">\n",
       "<p>The WebIO Jupyter extension was not detected. See the\n",
       "<a href=\"https://juliagizmos.github.io/WebIO.jl/latest/providers/ijulia/\" target=\"_blank\">\n",
       "    WebIO Jupyter integration documentation\n",
       "</a>\n",
       "for more information.\n",
       "</div>\n"
      ],
      "text/plain": [
       "WebIO._IJuliaInit()"
      ]
     },
     "metadata": {},
     "output_type": "display_data"
    },
    {
     "data": {
      "text/plain": [
       "Plots.PlotlyJSBackend()"
      ]
     },
     "execution_count": 1,
     "metadata": {},
     "output_type": "execute_result"
    }
   ],
   "source": [
    "using Plots\n",
    "using LinearAlgebra\n",
    "plotlyjs()"
   ]
  },
  {
   "cell_type": "code",
   "execution_count": 3,
   "metadata": {},
   "outputs": [
    {
     "ename": "LoadError",
     "evalue": "too many parameters for type",
     "output_type": "error",
     "traceback": [
      "too many parameters for type",
      "",
      "Stacktrace:",
      " [1] top-level scope",
      "   @ In[3]:9",
      " [2] eval",
      "   @ .\\boot.jl:360 [inlined]",
      " [3] include_string(mapexpr::typeof(REPL.softscope), mod::Module, code::String, filename::String)",
      "   @ Base .\\loading.jl:1116"
     ]
    }
   ],
   "source": [
    "μ=1\n",
    "\n",
    "labels=[\"-π\",\"-π/2\",\"0\",\"π/2\",\"π\"]\n",
    "ticks=[-π,-π/2,0,π/2,π];\n",
    "\n",
    "ks=LinRange(-π, π, 314)\n",
    "l=length(ks)\n",
    "\n",
    "ka=Matrix{Array{Float64},2}(l,l)\n",
    "for ii in 1:l\n",
    "    x=ks[ii]\n",
    "    for jj in 1:l\n",
    "        ka[ii,jj]=[x,ks[jj]]\n",
    "    end\n",
    "end"
   ]
  },
  {
   "cell_type": "code",
   "execution_count": null,
   "metadata": {},
   "outputs": [],
   "source": [
    "function R0(k::Array)\n",
    "    return 0\n",
    "end\n",
    "\n",
    "function R1(k::Array)\n",
    "    return -2*sin(k[1])\n",
    "end\n",
    "\n",
    "function R2(k::Array)\n",
    "    return -2*sin(k[2])\n",
    "end\n",
    "\n",
    "function R3(k::Array)\n",
    "    return μ+2*cos(k[1])+2*cos(k[2])\n",
    "end\n",
    "\n",
    "function R(k::Array)\n",
    "    return sqrt(R1(k)^2+R2(k)^2+R3(k)^2)\n",
    "end\n",
    "\n",
    "function λp(k::Array{Float64})\n",
    "    return R0(k)+R(k)\n",
    "end\n",
    "\n",
    "function λm(k::Array{Float64})\n",
    "    return R0(k)-R(k)\n",
    "end\n",
    "\n",
    "λpa=zeros(Float64,l,l)\n",
    "λma=zeros(Float64,l,l)\n",
    "\n",
    "for ii in 1:l\n",
    "    for jj in 1:l\n",
    "        λpa[ii,jj]=λp(ka[ii,jj])\n",
    "        λma[ii,jj]=λm(ka[ii,jj])\n",
    "    end\n",
    "end"
   ]
  }
 ],
 "metadata": {
  "kernelspec": {
   "display_name": "Julia 1.6.2",
   "language": "julia",
   "name": "julia-1.6"
  },
  "language_info": {
   "file_extension": ".jl",
   "mimetype": "application/julia",
   "name": "julia",
   "version": "1.6.2"
  },
  "orig_nbformat": 4
 },
 "nbformat": 4,
 "nbformat_minor": 2
}
